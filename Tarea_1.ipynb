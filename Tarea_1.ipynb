{
 "cells": [
  {
   "cell_type": "markdown",
   "metadata": {},
   "source": [
    "<img style=\"float: left; margin: 30px 15px 15px 15px;\" src=\"https://pngimage.net/wp-content/uploads/2018/06/logo-iteso-png-5.png\" width=\"300\" height=\"500\" /> \n",
    "    \n",
    "    \n",
    "### <font color='navy'> **Finanzas Cuantitativas | Otoño 2021**. \n",
    "\n",
    "**Nombres:** \n",
    "- Juan Pablo Ruíz.\n",
    "- Rubén Hernández.\n",
    "- Bryan Juárez.\n",
    "\n",
    "**Fecha:** 27 de mayo del 2021.\n",
    "    \n",
    "<img style=\"float: right; margin: 30px 15px 15px 15px;\" src=\"https://www.monash.edu/__data/assets/image/0004/1017517/iStock-611890326-OK3.jpg\" width=\"300\" height=\"500\" />\n",
    "\n",
    "**Expedientes** : \n",
    "- 721093.\n",
    "- 717710.\n",
    "- 722176.\n",
    "\n",
    "**Profesor:** José Mario Zárate.  \n",
    "\n",
    "## Tarea 1."
   ]
  },
  {
   "cell_type": "markdown",
   "metadata": {},
   "source": [
    "### Ejercicio 1.1"
   ]
  },
  {
   "cell_type": "markdown",
   "metadata": {},
   "source": [
    "Use the Csv files that contains 2000 records of the sales of similar products in the (each columns represents a year).\n",
    "\n",
    "Develop a function in python where you can evaluate a project usingIRR and NPV.\n",
    "\n",
    "The inputs is the flows by year (csv file), the output is a data frame containing NPV and IRR. \n",
    "\n",
    "Add lines to the code to answer the 4 question of the activity:\n",
    "- 1°- What's the probability that the IRR is over the Risk free rate?\n",
    "- 2°- What's the probability that the IRR is over the $35\\%$?\n",
    "- 3°- What's the probability that the project value is over $\\$2\\text{M}$?\n",
    "- 4°- What's the probability that the IRR is between $10\\%$ and $20\\%$?"
   ]
  },
  {
   "cell_type": "code",
   "execution_count": 1,
   "metadata": {},
   "outputs": [
    {
     "name": "stdout",
     "output_type": "stream",
     "text": [
      "Requirement already satisfied: numpy-financial in c:\\users\\bryan\\anaconda3\\lib\\site-packages (1.0.0)\n",
      "Requirement already satisfied: numpy>=1.15 in c:\\users\\bryan\\anaconda3\\lib\\site-packages (from numpy-financial) (1.19.2)\n"
     ]
    }
   ],
   "source": [
    "# Descargamos libreria financiera de python.\n",
    "!pip install numpy-financial"
   ]
  },
  {
   "cell_type": "code",
   "execution_count": 2,
   "metadata": {},
   "outputs": [],
   "source": [
    "# Librerías a utilizar.\n",
    "import numpy as np\n",
    "import pandas as pd\n",
    "import numpy_financial as npf"
   ]
  },
  {
   "cell_type": "code",
   "execution_count": 3,
   "metadata": {
    "scrolled": false
   },
   "outputs": [
    {
     "data": {
      "text/html": [
       "<div>\n",
       "<style scoped>\n",
       "    .dataframe tbody tr th:only-of-type {\n",
       "        vertical-align: middle;\n",
       "    }\n",
       "\n",
       "    .dataframe tbody tr th {\n",
       "        vertical-align: top;\n",
       "    }\n",
       "\n",
       "    .dataframe thead th {\n",
       "        text-align: right;\n",
       "    }\n",
       "</style>\n",
       "<table border=\"1\" class=\"dataframe\">\n",
       "  <thead>\n",
       "    <tr style=\"text-align: right;\">\n",
       "      <th></th>\n",
       "      <th>Year 1</th>\n",
       "      <th>Year 2</th>\n",
       "      <th>Year 3</th>\n",
       "      <th>Year 4</th>\n",
       "      <th>Year 5</th>\n",
       "    </tr>\n",
       "  </thead>\n",
       "  <tbody>\n",
       "    <tr>\n",
       "      <th>0</th>\n",
       "      <td>203,726.00</td>\n",
       "      <td>279,969.00</td>\n",
       "      <td>465,303.00</td>\n",
       "      <td>200,445.00</td>\n",
       "      <td>96,319.00</td>\n",
       "    </tr>\n",
       "    <tr>\n",
       "      <th>1</th>\n",
       "      <td>263,845.00</td>\n",
       "      <td>272,439.00</td>\n",
       "      <td>2,192.00</td>\n",
       "      <td>199,901.00</td>\n",
       "      <td>-</td>\n",
       "    </tr>\n",
       "    <tr>\n",
       "      <th>2</th>\n",
       "      <td>27,726.00</td>\n",
       "      <td>334,861.00</td>\n",
       "      <td>82,265.00</td>\n",
       "      <td>199,954.00</td>\n",
       "      <td>64,958.00</td>\n",
       "    </tr>\n",
       "    <tr>\n",
       "      <th>3</th>\n",
       "      <td>293,801.00</td>\n",
       "      <td>210,117.00</td>\n",
       "      <td>275,087.00</td>\n",
       "      <td>199,934.00</td>\n",
       "      <td>-</td>\n",
       "    </tr>\n",
       "    <tr>\n",
       "      <th>4</th>\n",
       "      <td>297,319.00</td>\n",
       "      <td>242,569.00</td>\n",
       "      <td>464,097.00</td>\n",
       "      <td>200,598.00</td>\n",
       "      <td>141,285.00</td>\n",
       "    </tr>\n",
       "    <tr>\n",
       "      <th>5</th>\n",
       "      <td>36,012.00</td>\n",
       "      <td>296,235.00</td>\n",
       "      <td>484,943.00</td>\n",
       "      <td>199,842.00</td>\n",
       "      <td>-</td>\n",
       "    </tr>\n",
       "    <tr>\n",
       "      <th>6</th>\n",
       "      <td>78,138.00</td>\n",
       "      <td>308,996.00</td>\n",
       "      <td>491,647.00</td>\n",
       "      <td>199,218.00</td>\n",
       "      <td>127,187.00</td>\n",
       "    </tr>\n",
       "    <tr>\n",
       "      <th>7</th>\n",
       "      <td>61,767.00</td>\n",
       "      <td>269,747.00</td>\n",
       "      <td>23,989.00</td>\n",
       "      <td>199,771.00</td>\n",
       "      <td>-</td>\n",
       "    </tr>\n",
       "    <tr>\n",
       "      <th>8</th>\n",
       "      <td>346,503.00</td>\n",
       "      <td>172,903.00</td>\n",
       "      <td>41,218.00</td>\n",
       "      <td>200,827.00</td>\n",
       "      <td>80,270.00</td>\n",
       "    </tr>\n",
       "    <tr>\n",
       "      <th>9</th>\n",
       "      <td>149,681.00</td>\n",
       "      <td>205,417.00</td>\n",
       "      <td>441,224.00</td>\n",
       "      <td>199,658.00</td>\n",
       "      <td>-</td>\n",
       "    </tr>\n",
       "  </tbody>\n",
       "</table>\n",
       "</div>"
      ],
      "text/plain": [
       "       Year 1        Year 2        Year 3        Year 4        Year 5  \n",
       "0   203,726.00    279,969.00    465,303.00    200,445.00     96,319.00 \n",
       "1   263,845.00    272,439.00      2,192.00    199,901.00          -    \n",
       "2    27,726.00    334,861.00     82,265.00    199,954.00     64,958.00 \n",
       "3   293,801.00    210,117.00    275,087.00    199,934.00          -    \n",
       "4   297,319.00    242,569.00    464,097.00    200,598.00    141,285.00 \n",
       "5    36,012.00    296,235.00    484,943.00    199,842.00          -    \n",
       "6    78,138.00    308,996.00    491,647.00    199,218.00    127,187.00 \n",
       "7    61,767.00    269,747.00     23,989.00    199,771.00          -    \n",
       "8   346,503.00    172,903.00     41,218.00    200,827.00     80,270.00 \n",
       "9   149,681.00    205,417.00    441,224.00    199,658.00          -    "
      ]
     },
     "execution_count": 3,
     "metadata": {},
     "output_type": "execute_result"
    }
   ],
   "source": [
    "# Comenzamos importando nuestros datos.\n",
    "data_oil = pd.read_csv('Data_OilCompany.csv')\n",
    "data_oil.head(10)"
   ]
  },
  {
   "cell_type": "markdown",
   "metadata": {},
   "source": [
    "**Data Cleansing**."
   ]
  },
  {
   "cell_type": "markdown",
   "metadata": {},
   "source": [
    "A simple vista se puede observar que el formato específicado no ayuda a la manipulación de los datos, por lo tanto trabajaremos transformandolos de manera que podamos manejar valores númericos."
   ]
  },
  {
   "cell_type": "code",
   "execution_count": 4,
   "metadata": {},
   "outputs": [],
   "source": [
    "# Definimos una función para reemplazar caracteres.\n",
    "def replace_text(x, to_replace, replacement):\n",
    "    try:\n",
    "        x = x.replace(to_replace, replacement)\n",
    "    except:\n",
    "        pass\n",
    "    return x"
   ]
  },
  {
   "cell_type": "code",
   "execution_count": 5,
   "metadata": {},
   "outputs": [
    {
     "data": {
      "text/html": [
       "<div>\n",
       "<style scoped>\n",
       "    .dataframe tbody tr th:only-of-type {\n",
       "        vertical-align: middle;\n",
       "    }\n",
       "\n",
       "    .dataframe tbody tr th {\n",
       "        vertical-align: top;\n",
       "    }\n",
       "\n",
       "    .dataframe thead th {\n",
       "        text-align: right;\n",
       "    }\n",
       "</style>\n",
       "<table border=\"1\" class=\"dataframe\">\n",
       "  <thead>\n",
       "    <tr style=\"text-align: right;\">\n",
       "      <th></th>\n",
       "      <th>0</th>\n",
       "      <th>1</th>\n",
       "      <th>2</th>\n",
       "      <th>3</th>\n",
       "      <th>4</th>\n",
       "    </tr>\n",
       "  </thead>\n",
       "  <tbody>\n",
       "    <tr>\n",
       "      <th>0</th>\n",
       "      <td>203726</td>\n",
       "      <td>279969</td>\n",
       "      <td>465303</td>\n",
       "      <td>200445</td>\n",
       "      <td>96319</td>\n",
       "    </tr>\n",
       "    <tr>\n",
       "      <th>1</th>\n",
       "      <td>263845</td>\n",
       "      <td>272439</td>\n",
       "      <td>2192</td>\n",
       "      <td>199901</td>\n",
       "      <td>0</td>\n",
       "    </tr>\n",
       "    <tr>\n",
       "      <th>2</th>\n",
       "      <td>27726</td>\n",
       "      <td>334861</td>\n",
       "      <td>82265</td>\n",
       "      <td>199954</td>\n",
       "      <td>64958</td>\n",
       "    </tr>\n",
       "    <tr>\n",
       "      <th>3</th>\n",
       "      <td>293801</td>\n",
       "      <td>210117</td>\n",
       "      <td>275087</td>\n",
       "      <td>199934</td>\n",
       "      <td>0</td>\n",
       "    </tr>\n",
       "    <tr>\n",
       "      <th>4</th>\n",
       "      <td>297319</td>\n",
       "      <td>242569</td>\n",
       "      <td>464097</td>\n",
       "      <td>200598</td>\n",
       "      <td>141285</td>\n",
       "    </tr>\n",
       "    <tr>\n",
       "      <th>5</th>\n",
       "      <td>36012</td>\n",
       "      <td>296235</td>\n",
       "      <td>484943</td>\n",
       "      <td>199842</td>\n",
       "      <td>0</td>\n",
       "    </tr>\n",
       "    <tr>\n",
       "      <th>6</th>\n",
       "      <td>78138</td>\n",
       "      <td>308996</td>\n",
       "      <td>491647</td>\n",
       "      <td>199218</td>\n",
       "      <td>127187</td>\n",
       "    </tr>\n",
       "    <tr>\n",
       "      <th>7</th>\n",
       "      <td>61767</td>\n",
       "      <td>269747</td>\n",
       "      <td>23989</td>\n",
       "      <td>199771</td>\n",
       "      <td>0</td>\n",
       "    </tr>\n",
       "    <tr>\n",
       "      <th>8</th>\n",
       "      <td>346503</td>\n",
       "      <td>172903</td>\n",
       "      <td>41218</td>\n",
       "      <td>200827</td>\n",
       "      <td>80270</td>\n",
       "    </tr>\n",
       "    <tr>\n",
       "      <th>9</th>\n",
       "      <td>149681</td>\n",
       "      <td>205417</td>\n",
       "      <td>441224</td>\n",
       "      <td>199658</td>\n",
       "      <td>0</td>\n",
       "    </tr>\n",
       "  </tbody>\n",
       "</table>\n",
       "</div>"
      ],
      "text/plain": [
       "        0       1       2       3       4\n",
       "0  203726  279969  465303  200445   96319\n",
       "1  263845  272439    2192  199901       0\n",
       "2   27726  334861   82265  199954   64958\n",
       "3  293801  210117  275087  199934       0\n",
       "4  297319  242569  464097  200598  141285\n",
       "5   36012  296235  484943  199842       0\n",
       "6   78138  308996  491647  199218  127187\n",
       "7   61767  269747   23989  199771       0\n",
       "8  346503  172903   41218  200827   80270\n",
       "9  149681  205417  441224  199658       0"
      ]
     },
     "execution_count": 5,
     "metadata": {},
     "output_type": "execute_result"
    }
   ],
   "source": [
    "# Primero iteramos para eliminar los espacios en las celdas de los valores y remplazamos el signo '-' por un 0.\n",
    "data_oil_values = pd.DataFrame([[(replace_text(data_oil.iloc[i,j], ',', '').strip()) \n",
    "                                  for i in range(len(data_oil))] \n",
    "                                  for j in range(len(data_oil.columns))][0:5]).replace('-', '0').T\n",
    "\n",
    "# Iteramos para volver numéricos los valores.\n",
    "data_oil_values = pd.DataFrame([[int(float(data_oil_values.iloc[i,j]))\n",
    "                                 for i in range(len(data_oil_values))]\n",
    "                                 for j in range(len(data_oil_values.columns))])\n",
    "\n",
    "# Visualizamos.\n",
    "data_oil_values.T.head(10)"
   ]
  },
  {
   "cell_type": "code",
   "execution_count": 6,
   "metadata": {
    "scrolled": false
   },
   "outputs": [
    {
     "data": {
      "text/html": [
       "<div>\n",
       "<style scoped>\n",
       "    .dataframe tbody tr th:only-of-type {\n",
       "        vertical-align: middle;\n",
       "    }\n",
       "\n",
       "    .dataframe tbody tr th {\n",
       "        vertical-align: top;\n",
       "    }\n",
       "\n",
       "    .dataframe thead th {\n",
       "        text-align: right;\n",
       "    }\n",
       "</style>\n",
       "<table border=\"1\" class=\"dataframe\">\n",
       "  <thead>\n",
       "    <tr style=\"text-align: right;\">\n",
       "      <th></th>\n",
       "      <th>Year 1</th>\n",
       "      <th>Year 2</th>\n",
       "      <th>Year 3</th>\n",
       "      <th>Year 4</th>\n",
       "      <th>Year 5</th>\n",
       "    </tr>\n",
       "    <tr>\n",
       "      <th>Scenarios</th>\n",
       "      <th></th>\n",
       "      <th></th>\n",
       "      <th></th>\n",
       "      <th></th>\n",
       "      <th></th>\n",
       "    </tr>\n",
       "  </thead>\n",
       "  <tbody>\n",
       "    <tr>\n",
       "      <th>0</th>\n",
       "      <td>203726</td>\n",
       "      <td>279969</td>\n",
       "      <td>465303</td>\n",
       "      <td>200445</td>\n",
       "      <td>96319</td>\n",
       "    </tr>\n",
       "    <tr>\n",
       "      <th>1</th>\n",
       "      <td>263845</td>\n",
       "      <td>272439</td>\n",
       "      <td>2192</td>\n",
       "      <td>199901</td>\n",
       "      <td>0</td>\n",
       "    </tr>\n",
       "    <tr>\n",
       "      <th>2</th>\n",
       "      <td>27726</td>\n",
       "      <td>334861</td>\n",
       "      <td>82265</td>\n",
       "      <td>199954</td>\n",
       "      <td>64958</td>\n",
       "    </tr>\n",
       "    <tr>\n",
       "      <th>3</th>\n",
       "      <td>293801</td>\n",
       "      <td>210117</td>\n",
       "      <td>275087</td>\n",
       "      <td>199934</td>\n",
       "      <td>0</td>\n",
       "    </tr>\n",
       "    <tr>\n",
       "      <th>4</th>\n",
       "      <td>297319</td>\n",
       "      <td>242569</td>\n",
       "      <td>464097</td>\n",
       "      <td>200598</td>\n",
       "      <td>141285</td>\n",
       "    </tr>\n",
       "    <tr>\n",
       "      <th>5</th>\n",
       "      <td>36012</td>\n",
       "      <td>296235</td>\n",
       "      <td>484943</td>\n",
       "      <td>199842</td>\n",
       "      <td>0</td>\n",
       "    </tr>\n",
       "    <tr>\n",
       "      <th>6</th>\n",
       "      <td>78138</td>\n",
       "      <td>308996</td>\n",
       "      <td>491647</td>\n",
       "      <td>199218</td>\n",
       "      <td>127187</td>\n",
       "    </tr>\n",
       "    <tr>\n",
       "      <th>7</th>\n",
       "      <td>61767</td>\n",
       "      <td>269747</td>\n",
       "      <td>23989</td>\n",
       "      <td>199771</td>\n",
       "      <td>0</td>\n",
       "    </tr>\n",
       "    <tr>\n",
       "      <th>8</th>\n",
       "      <td>346503</td>\n",
       "      <td>172903</td>\n",
       "      <td>41218</td>\n",
       "      <td>200827</td>\n",
       "      <td>80270</td>\n",
       "    </tr>\n",
       "    <tr>\n",
       "      <th>9</th>\n",
       "      <td>149681</td>\n",
       "      <td>205417</td>\n",
       "      <td>441224</td>\n",
       "      <td>199658</td>\n",
       "      <td>0</td>\n",
       "    </tr>\n",
       "  </tbody>\n",
       "</table>\n",
       "</div>"
      ],
      "text/plain": [
       "           Year 1  Year 2  Year 3  Year 4  Year 5\n",
       "Scenarios                                        \n",
       "0          203726  279969  465303  200445   96319\n",
       "1          263845  272439    2192  199901       0\n",
       "2           27726  334861   82265  199954   64958\n",
       "3          293801  210117  275087  199934       0\n",
       "4          297319  242569  464097  200598  141285\n",
       "5           36012  296235  484943  199842       0\n",
       "6           78138  308996  491647  199218  127187\n",
       "7           61767  269747   23989  199771       0\n",
       "8          346503  172903   41218  200827   80270\n",
       "9          149681  205417  441224  199658       0"
      ]
     },
     "execution_count": 6,
     "metadata": {},
     "output_type": "execute_result"
    }
   ],
   "source": [
    "# Por cuestión de estética reestructuramos la información en un nuevo data frame.\n",
    "data_oil_final = pd.DataFrame(np.asmatrix(data_oil_values.T),\n",
    "                              columns = ['Year 1', 'Year 2', 'Year 3', 'Year 4', 'Year 5'])\n",
    "\n",
    "# Visualizamos.\n",
    "data_oil_final.index.name = 'Scenarios'\n",
    "data_oil_final.head(10)"
   ]
  },
  {
   "cell_type": "markdown",
   "metadata": {},
   "source": [
    "**Function Definition**."
   ]
  },
  {
   "cell_type": "markdown",
   "metadata": {},
   "source": [
    "Ya con los datos en un formato numérico y manipulable, lo que haremos ahora será definir la función con la cuál evaluaremos un proyecto mediante las métricas del **Valor Presente Neto** y la **Tasa Interna de Retorno**."
   ]
  },
  {
   "cell_type": "code",
   "execution_count": 7,
   "metadata": {},
   "outputs": [],
   "source": [
    "# Definimos la función a trabajar.\n",
    "def get_project_valuation(data: 'DataFrame donde se almacenan los posibles valores de producción.',\n",
    "                          invest: 'Inversión inicial.',\n",
    "                          price: 'Precio de venta por unidad.',\n",
    "                          cost: 'Costo fijo por unidad.',\n",
    "                          fixed: 'Costo de mantenimiento anual.',\n",
    "                          rf: 'Tasa libre de riesgo.'):\n",
    "    \n",
    "    '''La intención de está función es evaluar un proyecto a partir de las métricas del NPV y IRR.'''\n",
    "    \n",
    "    ### Definimos un data frame donde almacenaremos los flujos.\n",
    "    # Flujos de inversión inicial.\n",
    "    investment_flow = pd.DataFrame([-abs(invest)] * len(data_oil_final))\n",
    "    \n",
    "    # Flujos correspondientes a las cantidades producidas.\n",
    "    flows = pd.DataFrame([[data.T.iloc[i,j] * (price-cost) - fixed \n",
    "                           for i in range(len(data.columns))]\n",
    "                           for j in range(len(data))])\n",
    "    \n",
    "    # Concatenamos los flujos.\n",
    "    final_flows = pd.merge(investment_flow, flows, right_index=True, left_index=True)\n",
    "    \n",
    "    ### Calculamos el valor presente neto, NPV.\n",
    "    npv_vector = [(npf.npv(rf, final_flows.iloc[i,:])) for i in range(len(final_flows))]\n",
    "    \n",
    "    ### Calculamos la tasa interna de retorno, IRR.\n",
    "    irr_vector = [round(npf.irr(final_flows.iloc[i,:]), 2) for i in range(len(final_flows))]\n",
    "    \n",
    "    ### Estructuramos información final en un data frame.\n",
    "    results = pd.DataFrame(columns=['NPV', 'IRR'])\n",
    "    results.index.name = 'Scenarios'\n",
    "    results['NPV'] = npv_vector\n",
    "    results['IRR'] = irr_vector\n",
    "    \n",
    "    ### Retornamos el data frame creado.\n",
    "    return results"
   ]
  },
  {
   "cell_type": "code",
   "execution_count": 8,
   "metadata": {
    "scrolled": false
   },
   "outputs": [
    {
     "data": {
      "text/html": [
       "<div>\n",
       "<style scoped>\n",
       "    .dataframe tbody tr th:only-of-type {\n",
       "        vertical-align: middle;\n",
       "    }\n",
       "\n",
       "    .dataframe tbody tr th {\n",
       "        vertical-align: top;\n",
       "    }\n",
       "\n",
       "    .dataframe thead th {\n",
       "        text-align: right;\n",
       "    }\n",
       "</style>\n",
       "<table border=\"1\" class=\"dataframe\">\n",
       "  <thead>\n",
       "    <tr style=\"text-align: right;\">\n",
       "      <th></th>\n",
       "      <th>NPV</th>\n",
       "      <th>IRR</th>\n",
       "    </tr>\n",
       "    <tr>\n",
       "      <th>Scenarios</th>\n",
       "      <th></th>\n",
       "      <th></th>\n",
       "    </tr>\n",
       "  </thead>\n",
       "  <tbody>\n",
       "    <tr>\n",
       "      <th>0</th>\n",
       "      <td>2.841295e+06</td>\n",
       "      <td>0.51</td>\n",
       "    </tr>\n",
       "    <tr>\n",
       "      <th>1</th>\n",
       "      <td>9.256289e+05</td>\n",
       "      <td>0.27</td>\n",
       "    </tr>\n",
       "    <tr>\n",
       "      <th>2</th>\n",
       "      <td>7.532422e+05</td>\n",
       "      <td>0.17</td>\n",
       "    </tr>\n",
       "    <tr>\n",
       "      <th>3</th>\n",
       "      <td>1.850074e+06</td>\n",
       "      <td>0.44</td>\n",
       "    </tr>\n",
       "    <tr>\n",
       "      <th>4</th>\n",
       "      <td>3.233719e+06</td>\n",
       "      <td>0.59</td>\n",
       "    </tr>\n",
       "    <tr>\n",
       "      <th>5</th>\n",
       "      <td>1.946086e+06</td>\n",
       "      <td>0.35</td>\n",
       "    </tr>\n",
       "    <tr>\n",
       "      <th>6</th>\n",
       "      <td>2.652614e+06</td>\n",
       "      <td>0.42</td>\n",
       "    </tr>\n",
       "    <tr>\n",
       "      <th>7</th>\n",
       "      <td>1.742579e+05</td>\n",
       "      <td>0.07</td>\n",
       "    </tr>\n",
       "    <tr>\n",
       "      <th>8</th>\n",
       "      <td>1.312898e+06</td>\n",
       "      <td>0.34</td>\n",
       "    </tr>\n",
       "    <tr>\n",
       "      <th>9</th>\n",
       "      <td>1.881327e+06</td>\n",
       "      <td>0.37</td>\n",
       "    </tr>\n",
       "  </tbody>\n",
       "</table>\n",
       "</div>"
      ],
      "text/plain": [
       "                    NPV   IRR\n",
       "Scenarios                    \n",
       "0          2.841295e+06  0.51\n",
       "1          9.256289e+05  0.27\n",
       "2          7.532422e+05  0.17\n",
       "3          1.850074e+06  0.44\n",
       "4          3.233719e+06  0.59\n",
       "5          1.946086e+06  0.35\n",
       "6          2.652614e+06  0.42\n",
       "7          1.742579e+05  0.07\n",
       "8          1.312898e+06  0.34\n",
       "9          1.881327e+06  0.37"
      ]
     },
     "execution_count": 8,
     "metadata": {},
     "output_type": "execute_result"
    }
   ],
   "source": [
    "### Probamos la función creada.\n",
    "# Definimos parámetros de entrada.\n",
    "invest = 1800000\n",
    "price = 5\n",
    "cost = 0.8\n",
    "fixed = 40000\n",
    "rf = 0.03\n",
    "\n",
    "# Probamos el output de la función.\n",
    "project_valuation = get_project_valuation(data_oil_final, invest, price, cost, fixed, rf)\n",
    "project_valuation.head(10)"
   ]
  },
  {
   "cell_type": "markdown",
   "metadata": {},
   "source": [
    "**Questions**."
   ]
  },
  {
   "cell_type": "markdown",
   "metadata": {},
   "source": [
    "Del **output** mostrado se puede verificar que los resultados obtenidos han sido satisfactorios, con esto en cuenta ahora lo que haremos será comenzar a dar respuesta a las preguntas planteadas desde un enfoque _frecuentista_ de la probabilidad."
   ]
  },
  {
   "cell_type": "markdown",
   "metadata": {},
   "source": [
    "1°- What's the probability that the IRR is over the Risk free rate?"
   ]
  },
  {
   "cell_type": "code",
   "execution_count": 9,
   "metadata": {},
   "outputs": [
    {
     "name": "stdout",
     "output_type": "stream",
     "text": [
      "La probabilidad de que la TIR supere la tasa libre de riesgo es de: 98.7%\n"
     ]
    }
   ],
   "source": [
    "# Respondemos.\n",
    "prob_question1 = (sum([1 if i > rf else 0 for i in project_valuation.IRR])) / len(project_valuation.IRR)\n",
    "print(f'La probabilidad de que la TIR supere la tasa libre de riesgo es de: {(prob_question1)*100}%')"
   ]
  },
  {
   "cell_type": "markdown",
   "metadata": {},
   "source": [
    "2°- What's the probability that the IRR is over the $35\\%$?"
   ]
  },
  {
   "cell_type": "code",
   "execution_count": 10,
   "metadata": {},
   "outputs": [
    {
     "name": "stdout",
     "output_type": "stream",
     "text": [
      "La probabilidad de que la TIR supere un 35% es de: 52.1%\n"
     ]
    }
   ],
   "source": [
    "# Respondemos.\n",
    "prob_question2 = (sum([1 if i > 0.35 else 0 for i in project_valuation.IRR])) / len(project_valuation.IRR)\n",
    "print(f'La probabilidad de que la TIR supere un 35% es de: {(prob_question2)*100}%')"
   ]
  },
  {
   "cell_type": "markdown",
   "metadata": {},
   "source": [
    "3°- What's the probability that the project value is over $\\$2\\text{M}$?"
   ]
  },
  {
   "cell_type": "code",
   "execution_count": 11,
   "metadata": {},
   "outputs": [
    {
     "name": "stdout",
     "output_type": "stream",
     "text": [
      "La probabilidad de que el VPN supere los 2 millones de dólares es de: 40.4%\n"
     ]
    }
   ],
   "source": [
    "# Respondemos.\n",
    "prob_question3 = (sum([1 if i > 2000000 else 0 for i in project_valuation.NPV])) / len(project_valuation.NPV)\n",
    "print(f'La probabilidad de que el VPN supere los 2 millones de dólares es de: {round((prob_question3)*100, 4)}%')"
   ]
  },
  {
   "cell_type": "markdown",
   "metadata": {},
   "source": [
    "4°- What's the probability that the IRR is between $10\\%$ and $20\\%$?"
   ]
  },
  {
   "cell_type": "code",
   "execution_count": 12,
   "metadata": {},
   "outputs": [
    {
     "name": "stdout",
     "output_type": "stream",
     "text": [
      "La probabilidad de que la TIR este entre el 10% y el 20% es de: 13.1%\n"
     ]
    }
   ],
   "source": [
    "# Respondemos.\n",
    "prob_question4 = (sum([1 if 0.1<=i<=0.2 else 0 for i in project_valuation.IRR])) / len(project_valuation.IRR)\n",
    "print(f'La probabilidad de que la TIR este entre el 10% y el 20% es de: {round((prob_question4)*100, 4)}%')"
   ]
  },
  {
   "cell_type": "markdown",
   "metadata": {},
   "source": [
    "### Ejercicio 1.2"
   ]
  },
  {
   "cell_type": "markdown",
   "metadata": {},
   "source": [
    "Select one of the options from slide 4 and propose adding theuncertainty factor in one of the variables.\n",
    "- 1°- Explain clearly your conditions.\n",
    "- 2°- Draw the decision tree and expected value.\n",
    "- 3°- Explain under what conditions your decisions changes."
   ]
  },
  {
   "cell_type": "markdown",
   "metadata": {},
   "source": [
    "**Escribir solución**."
   ]
  },
  {
   "cell_type": "markdown",
   "metadata": {},
   "source": []
  },
  {
   "cell_type": "markdown",
   "metadata": {},
   "source": []
  },
  {
   "cell_type": "markdown",
   "metadata": {},
   "source": []
  }
 ],
 "metadata": {
  "kernelspec": {
   "display_name": "Python 3",
   "language": "python",
   "name": "python3"
  },
  "language_info": {
   "codemirror_mode": {
    "name": "ipython",
    "version": 3
   },
   "file_extension": ".py",
   "mimetype": "text/x-python",
   "name": "python",
   "nbconvert_exporter": "python",
   "pygments_lexer": "ipython3",
   "version": "3.8.5"
  }
 },
 "nbformat": 4,
 "nbformat_minor": 4
}
