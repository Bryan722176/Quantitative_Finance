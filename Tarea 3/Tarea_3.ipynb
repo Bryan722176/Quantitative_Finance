{
 "cells": [
  {
   "cell_type": "markdown",
   "metadata": {},
   "source": [
    "<img style=\"float: left; margin: 30px 15px 15px 15px;\" src=\"https://pngimage.net/wp-content/uploads/2018/06/logo-iteso-png-5.png\" width=\"300\" height=\"500\" /> \n",
    "    \n",
    "    \n",
    "### <font color='navy'> **Finanzas Cuantitativas | Verano 2021**. \n",
    "\n",
    "**Nombres:** \n",
    "- Juan Pablo Ruíz.\n",
    "- Rubén Hernández.\n",
    "- Bryan Juárez.\n",
    "\n",
    "**Fecha:** 01 de junio del 2021.\n",
    "    \n",
    "<img style=\"float: right; margin: 30px 15px 15px 15px;\" src=\"https://www.monash.edu/__data/assets/image/0004/1017517/iStock-611890326-OK3.jpg\" width=\"300\" height=\"500\" />\n",
    "\n",
    "**Expedientes** : \n",
    "- 721093.\n",
    "- 717710.\n",
    "- 722176.\n",
    "\n",
    "**Profesor:** José Mario Zárate.  \n",
    "\n",
    "## Tarea 3."
   ]
  },
  {
   "cell_type": "markdown",
   "metadata": {},
   "source": [
    "### Ejercicio 3.1"
   ]
  },
  {
   "cell_type": "markdown",
   "metadata": {},
   "source": [
    "Revisit the example from previous class:\n",
    "\n",
    "Buy a start up stock that doesn’t pay dividends estimate the Expected Results using Corporate Finance Theory the X factor stochastic.\n",
    "\n",
    "Assume a normal distribution.\n",
    "- Analytical method.\n",
    "- Simulate in excel/python to test accuracy."
   ]
  },
  {
   "cell_type": "code",
   "execution_count": 2,
   "metadata": {},
   "outputs": [],
   "source": [
    "### Importamos librerias a utilizar.\n",
    "import pandas as pd\n",
    "import numpy as np\n",
    "import numpy_financial as npf\n",
    "from scipy import stats\n",
    "import warnings\n",
    "import matplotlib.pyplot as plt\n",
    "%matplotlib inline\n",
    "import seaborn as sns\n",
    "### Algunas funciones para pandas.\n",
    "pd.core.common.is_list_like = pd.api.types.is_list_like"
   ]
  },
  {
   "cell_type": "code",
   "execution_count": null,
   "metadata": {},
   "outputs": [],
   "source": [
    "### Analytical Solution.\n",
    ".\n",
    ".\n",
    "."
   ]
  },
  {
   "cell_type": "markdown",
   "metadata": {},
   "source": [
    "### `Datos de nuestro activo`\n",
    "\n",
    "Activo: **AMZN**\n",
    "<br>\n",
    "precio de cierre al: 01/06/2021\n",
    "<br>\n",
    "<li>${S_0}= 3218.65$</li>\n",
    "<br>\n",
    "\n",
    "**Datos financieros anuales 2020**\n",
    "\n",
    "<br>\n",
    "<li>Shares Outstanding= ${503}$M</li>\n",
    "<br>\n",
    "\n",
    "<li>Total Assets= ${321,195}$M</li>\n",
    "<br>\n",
    "\n",
    "<li>Total Liabilities= ${227,791}$M</li>\n",
    "<br>\n",
    "\n",
    "<li>Common Equity= ${93,404}$M</li>\n",
    "\n",
    "\n",
    "### `Stock Fair Value`\n",
    "\n",
    "Para calcular el precio justo de la acción seguimos los siguientes pasos:\n",
    "\n",
    "1. Multiplicamos los activos por el factor de proyeción.\n",
    "2. Al resultado del producto anterior le restamos los pasivos.\n",
    "3. Tomando en cuenta la ecuación contable el resultado de esa sustracción sería el Capital.\n",
    "\n",
    "$${A-L=E}$$\n",
    "\n",
    "4. A ese capital lo igualamos al producto del precio de cierre de la acción y la cantidad de acciones en circulación.\n",
    "\n",
    "$$E=PQ$$\n",
    "\n",
    "5. Al despejar esa expreción nos queda que el precio justo es igual al Capital entre la cantidad de acciones en circulación.\n",
    "\n",
    "$$P = \\frac{E}{Q}$$\n",
    "\n",
    "\n",
    "### `Introduciendo el factor de Incertidumbre`\n",
    "<br>\n",
    "<li>Asumimos el factor para la proyeción de los activos es una varible aleatoria la cual denotaremos como ${X}$.</li>\n",
    "<br>\n",
    "<li>Asumimos que ${X}$ sigue una distribución exponencial.</li>\n",
    "<br>\n",
    "<li>${X \\sim \\mathcal{Exp}(\\lambda)}$</li>\n",
    "<br>\n",
    "<li>Recordando la PDF de la distribución exponencial: $ f(x) = {{\\lambda}e^{-\\lambda x}}$ con $\\lambda > 0$.</li>\n",
    "<br>\n",
    "<li>Asumimos qe el parámetro lambda de la distribución exponencial es de .4, es decir ${\\lambda = .4}$</li>\n",
    "<br>\n",
    "<li>Recordamos que la Media para una distribucipon esponencial es : $E[X]=\\frac{1}{\\lambda}$</li>\n",
    "<br>\n",
    "<li>Por lo tanto la media es igual a: $E[X]=2.5$</li>\n",
    "<br>\n",
    "<li>Recordamos que la Vrianza para una distribucipon esponencial es : $E[X]=\\frac{1}{\\lambda^2}$</li>\n",
    "<br>\n",
    "<li>Por lo tanto la varianza es igual a: $Var[X]=6.25$</li>\n",
    "<br>\n",
    "\n",
    "\n",
    "### `Cálculo del Valor Esperado por el método análitico`\n",
    "\n",
    "\n",
    "<br>\n",
    "<li>${F}$= Fair Value</li>\n",
    "<br>\n",
    "<li>${X}$= Factor de proyección</li>\n",
    "<br>\n",
    "<li>${A}$= Activos</li>\n",
    "<br>\n",
    "<li>${L}$= Pasivos</li>\n",
    "<br>\n",
    "<li>${n}$= acciones en circulación</li>\n",
    "<br>\n",
    "    \n",
    "**Solución:**\n",
    "\n",
    "Teniendo en cuenta los pasos anteriormente mencionados en el apartado de fair value, planteamos el Fair Value de la siguiente forma:\n",
    "\n",
    "$$ F = \\frac{AX - L}{n} $$\n",
    "\n",
    "Procedemos a calcular el valor esperado, aplicando el operador Esperanza a la Expresión.\n",
    "\n",
    "$$ E[F] = E\\left[\\frac{AX - L}{n}\\right] $$\n",
    "\n",
    "Sacamos la cte $n$.\n",
    "\n",
    "$$ E[F] = \\frac{1}{n}E\\left[{AX - L}\\right] $$\n",
    "\n",
    "Reagrupamos la expresión de adentro.\n",
    "\n",
    "$$ E[F] = \\frac{1}{n}\\left(E\\left[{AX}\\right]-E\\left[{L}\\right]\\right)  $$\n",
    "\n",
    "Una vez más sacamos la constante de la esperanza (Activos).\n",
    "\n",
    "$$ E[F] = \\frac{1}{n}\\left(AE\\left[{X}\\right]-E\\left[{L}\\right]\\right)  $$\n",
    "\n",
    "Calculamos la Esperanza de una Cte la cual es una Cte (Pasivos).\n",
    "\n",
    "$$ E[F] = \\frac{1}{n}\\left(AE\\left[{X}\\right]-L\\right)  $$\n",
    "\n",
    "Evaluamos nuestras variables en la expresión.\n",
    "\n",
    "$$ E[F] = \\frac{1}{503}\\left((321195*2.5)-227791\\right)  $$\n",
    "\n",
    "Finalmente obtenemos: \n",
    "\n",
    "$$ E[F] = 1143.5318  $$\n",
    "\n",
    "\n",
    "### `Cálculo de la Varianza por el método análitico`\n",
    "\n",
    "$$ Var[F] = Var\\left[\\frac{AX - L}{n}\\right] $$\n",
    "\n",
    "Sacamos la Cte $n$ al cuadrado.\n",
    "\n",
    "$$ Var[F] = \\frac{1}{n^2}Var\\left[{AX - L}\\right] $$\n",
    "\n",
    "Reagrupamos la Expresión y sacamos la Cte al cuadrado (Activos).\n",
    "\n",
    "$$ Var[F] = \\frac{1}{n^2}\\left(A^2Var\\left[{X}\\right]-Var\\left[{L}\\right]\\right)  $$\n",
    "\n",
    "La Varianza de una Cte es 0 por lo que la varianza de los pasivos da cero.\n",
    "\n",
    "$$ Var[F] = \\frac{1}{n^2}\\left(A^2Var\\left[{X}\\right]\\right)  $$\n",
    "\n",
    "Evaluamos nuestros datos en la expresión.\n",
    "\n",
    "$$ Var[F] = \\frac{1}{503^2}\\left(321195^2*6.25\\right)  $$\n",
    "\n",
    "Finalmente obtenemos:\n",
    "\n",
    "$$ Var[F] = 2548482$$"
   ]
  },
  {
   "cell_type": "markdown",
   "metadata": {},
   "source": [
    "### `Simulando el factor X ` \n",
    "### $X \\sim \\mathcal{Exp}(\\lambda)$ \n",
    "**Parámetros:**\n",
    "$$\n",
    "mean (\\beta): \\frac{1}{\\lambda}\n",
    "$$\n",
    "\n",
    "$$\n",
    "variance: \\frac{1}{\\lambda^2}\n",
    "$$\n",
    "\n",
    "$$\n",
    "\\lambda = \\frac{1}{\\beta}\n",
    "$$"
   ]
  },
  {
   "cell_type": "code",
   "execution_count": 3,
   "metadata": {},
   "outputs": [],
   "source": [
    "# Variables\n",
    "A = 321_195 # Activos\n",
    "L = 227_791 # Pasivos\n",
    "E = 93_404 # Capital\n",
    "Q = 503 # Número de Acciones en Circulación\n",
    "So = 3_218.65 # Precio de cierre al 01/06/2021"
   ]
  },
  {
   "cell_type": "code",
   "execution_count": 4,
   "metadata": {},
   "outputs": [
    {
     "data": {
      "text/plain": [
       "True"
      ]
     },
     "execution_count": 4,
     "metadata": {},
     "output_type": "execute_result"
    }
   ],
   "source": [
    "# Validando la Ecuación Contable\n",
    "A == L+E"
   ]
  },
  {
   "cell_type": "code",
   "execution_count": 5,
   "metadata": {},
   "outputs": [],
   "source": [
    "def exp_gen(beta, n):\n",
    "    X = np.random.exponential(scale = beta, size = n)\n",
    "    return X"
   ]
  },
  {
   "cell_type": "code",
   "execution_count": 6,
   "metadata": {},
   "outputs": [],
   "source": [
    "variables = np.concatenate([exp_gen(2.5, 1) for i in range(100000)])"
   ]
  },
  {
   "cell_type": "code",
   "execution_count": 7,
   "metadata": {},
   "outputs": [
    {
     "data": {
      "image/png": "[encoded data removed]",
      "text/plain": [
       "<Figure size 360x360 with 1 Axes>"
      ]
     },
     "metadata": {
      "needs_background": "light"
     },
     "output_type": "display_data"
    }
   ],
   "source": [
    "sns.displot(variables, bins = 35);"
   ]
  },
  {
   "cell_type": "code",
   "execution_count": 8,
   "metadata": {},
   "outputs": [],
   "source": [
    "# Simular E[F] 100,000 Veces\n",
    "EF = [1/Q*((A*variables[i]) - L) for i in range(len(variables))]"
   ]
  },
  {
   "cell_type": "code",
   "execution_count": 9,
   "metadata": {},
   "outputs": [
    {
     "data": {
      "text/plain": [
       "1143.6258275817972"
      ]
     },
     "execution_count": 9,
     "metadata": {},
     "output_type": "execute_result"
    }
   ],
   "source": [
    "# Promedio de 100,000 EF generados con simulación\n",
    "EF = np.mean(EF)\n",
    "EF"
   ]
  },
  {
   "cell_type": "code",
   "execution_count": 10,
   "metadata": {},
   "outputs": [
    {
     "name": "stdout",
     "output_type": "stream",
     "text": [
      "Wall time: 3.39 s\n"
     ]
    }
   ],
   "source": [
    "%%time\n",
    "# Generar 1000 V.A exp 1000 veces. Total = 1,000,000 variables\n",
    "X = [np.concatenate([exp_gen(2.5, 1) for i in range(1000)]) for i in range(1000)]"
   ]
  },
  {
   "cell_type": "code",
   "execution_count": 11,
   "metadata": {},
   "outputs": [],
   "source": [
    "# Obtener E[X] para cada grupo de 1,000 V.A exp\n",
    "EX = [np.mean(X[i]) for i in range(len(X))] # tamaño = 1,000"
   ]
  },
  {
   "cell_type": "code",
   "execution_count": 12,
   "metadata": {},
   "outputs": [
    {
     "data": {
      "text/plain": [
       "1000"
      ]
     },
     "execution_count": 12,
     "metadata": {},
     "output_type": "execute_result"
    }
   ],
   "source": [
    "# Generar 1,000 lambdas \n",
    "lambdas = [1/np.mean(EX[i]) for i in range(len(EX))]\n",
    "len(lambdas)"
   ]
  },
  {
   "cell_type": "code",
   "execution_count": 13,
   "metadata": {},
   "outputs": [],
   "source": [
    "# Obtener 1,000 Varianzas de X con cada lambda\n",
    "varX = [1/lambdas[i]**2 for i in range(len(lambdas))]"
   ]
  },
  {
   "cell_type": "code",
   "execution_count": 14,
   "metadata": {},
   "outputs": [],
   "source": [
    "# Obtener 1,000 Var[F]\n",
    "varF = [(1/Q**2)*(A**2*varX[i]) for i in range(len(varX))]"
   ]
  },
  {
   "cell_type": "code",
   "execution_count": 15,
   "metadata": {},
   "outputs": [
    {
     "data": {
      "text/plain": [
       "2557634.4182803705"
      ]
     },
     "execution_count": 15,
     "metadata": {},
     "output_type": "execute_result"
    }
   ],
   "source": [
    "# Promedio de las 1,000 Var[F] obtenido con simulación\n",
    "varF = np.mean(varF)\n",
    "varF"
   ]
  },
  {
   "cell_type": "markdown",
   "metadata": {},
   "source": [
    "### `Comparación Método Analítico vs Simulación`"
   ]
  },
  {
   "cell_type": "code",
   "execution_count": 23,
   "metadata": {},
   "outputs": [],
   "source": [
    "df_resultados = pd.DataFrame(index = ['E[F]', 'Var[F]'],\n",
    "                             data = {'Analítico': [1143.53, 2548482],\n",
    "                                     'Simulación': np.round([EF, varF], 2)})"
   ]
  },
  {
   "cell_type": "code",
   "execution_count": 24,
   "metadata": {},
   "outputs": [
    {
     "data": {
      "text/html": [
       "<div>\n",
       "<style scoped>\n",
       "    .dataframe tbody tr th:only-of-type {\n",
       "        vertical-align: middle;\n",
       "    }\n",
       "\n",
       "    .dataframe tbody tr th {\n",
       "        vertical-align: top;\n",
       "    }\n",
       "\n",
       "    .dataframe thead th {\n",
       "        text-align: right;\n",
       "    }\n",
       "</style>\n",
       "<table border=\"1\" class=\"dataframe\">\n",
       "  <thead>\n",
       "    <tr style=\"text-align: right;\">\n",
       "      <th></th>\n",
       "      <th>Analítico</th>\n",
       "      <th>Simulación</th>\n",
       "    </tr>\n",
       "  </thead>\n",
       "  <tbody>\n",
       "    <tr>\n",
       "      <th>E[F]</th>\n",
       "      <td>1143.53</td>\n",
       "      <td>1143.63</td>\n",
       "    </tr>\n",
       "    <tr>\n",
       "      <th>Var[F]</th>\n",
       "      <td>2548482.00</td>\n",
       "      <td>2557634.42</td>\n",
       "    </tr>\n",
       "  </tbody>\n",
       "</table>\n",
       "</div>"
      ],
      "text/plain": [
       "         Analítico  Simulación\n",
       "E[F]       1143.53     1143.63\n",
       "Var[F]  2548482.00  2557634.42"
      ]
     },
     "execution_count": 24,
     "metadata": {},
     "output_type": "execute_result"
    }
   ],
   "source": [
    "df_resultados"
   ]
  },
  {
   "cell_type": "markdown",
   "metadata": {},
   "source": [
    "### Ejercicio 3.2"
   ]
  },
  {
   "cell_type": "markdown",
   "metadata": {},
   "source": [
    "Using the properties of random variables and knowing the PDF of the sales product of each year answer analytically:\n",
    "\n",
    "- What are the expected product sales for year 1 and year 2?\n",
    "- What the expected revenue in PV for the life of the product? What is the VAR?\n",
    "- What the expected NPV and VAR for NPV?\n",
    "- Estimate the PDF of NPV and IRR answer analytically:\n",
    "    1. What's the probability that the IRR is over the Risk free rate?\n",
    "    2. What's the probability that the IRR is over the $35\\%$?\n",
    "    3. What's the probability that the project value is over $\\$2\\text{M}$?\n",
    "    4. What’s the probability that the IRR is between $10\\%$ and $20\\%$?\n",
    "    5. Do you get same responses as in Homework 1.1?"
   ]
  },
  {
   "cell_type": "markdown",
   "metadata": {},
   "source": [
    "**Import Data.**"
   ]
  },
  {
   "cell_type": "code",
   "execution_count": 2,
   "metadata": {},
   "outputs": [
    {
     "data": {
      "text/html": [
       "<div>\n",
       "<style scoped>\n",
       "    .dataframe tbody tr th:only-of-type {\n",
       "        vertical-align: middle;\n",
       "    }\n",
       "\n",
       "    .dataframe tbody tr th {\n",
       "        vertical-align: top;\n",
       "    }\n",
       "\n",
       "    .dataframe thead th {\n",
       "        text-align: right;\n",
       "    }\n",
       "</style>\n",
       "<table border=\"1\" class=\"dataframe\">\n",
       "  <thead>\n",
       "    <tr style=\"text-align: right;\">\n",
       "      <th></th>\n",
       "      <th>Year 1</th>\n",
       "      <th>Year 2</th>\n",
       "      <th>Year 3</th>\n",
       "      <th>Year 4</th>\n",
       "      <th>Year 5</th>\n",
       "    </tr>\n",
       "  </thead>\n",
       "  <tbody>\n",
       "    <tr>\n",
       "      <th>0</th>\n",
       "      <td>203,726.00</td>\n",
       "      <td>279,969.00</td>\n",
       "      <td>465,303.00</td>\n",
       "      <td>200,445.00</td>\n",
       "      <td>96,319.00</td>\n",
       "    </tr>\n",
       "    <tr>\n",
       "      <th>1</th>\n",
       "      <td>263,845.00</td>\n",
       "      <td>272,439.00</td>\n",
       "      <td>2,192.00</td>\n",
       "      <td>199,901.00</td>\n",
       "      <td>-</td>\n",
       "    </tr>\n",
       "    <tr>\n",
       "      <th>2</th>\n",
       "      <td>27,726.00</td>\n",
       "      <td>334,861.00</td>\n",
       "      <td>82,265.00</td>\n",
       "      <td>199,954.00</td>\n",
       "      <td>64,958.00</td>\n",
       "    </tr>\n",
       "    <tr>\n",
       "      <th>3</th>\n",
       "      <td>293,801.00</td>\n",
       "      <td>210,117.00</td>\n",
       "      <td>275,087.00</td>\n",
       "      <td>199,934.00</td>\n",
       "      <td>-</td>\n",
       "    </tr>\n",
       "    <tr>\n",
       "      <th>4</th>\n",
       "      <td>297,319.00</td>\n",
       "      <td>242,569.00</td>\n",
       "      <td>464,097.00</td>\n",
       "      <td>200,598.00</td>\n",
       "      <td>141,285.00</td>\n",
       "    </tr>\n",
       "    <tr>\n",
       "      <th>5</th>\n",
       "      <td>36,012.00</td>\n",
       "      <td>296,235.00</td>\n",
       "      <td>484,943.00</td>\n",
       "      <td>199,842.00</td>\n",
       "      <td>-</td>\n",
       "    </tr>\n",
       "    <tr>\n",
       "      <th>6</th>\n",
       "      <td>78,138.00</td>\n",
       "      <td>308,996.00</td>\n",
       "      <td>491,647.00</td>\n",
       "      <td>199,218.00</td>\n",
       "      <td>127,187.00</td>\n",
       "    </tr>\n",
       "    <tr>\n",
       "      <th>7</th>\n",
       "      <td>61,767.00</td>\n",
       "      <td>269,747.00</td>\n",
       "      <td>23,989.00</td>\n",
       "      <td>199,771.00</td>\n",
       "      <td>-</td>\n",
       "    </tr>\n",
       "    <tr>\n",
       "      <th>8</th>\n",
       "      <td>346,503.00</td>\n",
       "      <td>172,903.00</td>\n",
       "      <td>41,218.00</td>\n",
       "      <td>200,827.00</td>\n",
       "      <td>80,270.00</td>\n",
       "    </tr>\n",
       "    <tr>\n",
       "      <th>9</th>\n",
       "      <td>149,681.00</td>\n",
       "      <td>205,417.00</td>\n",
       "      <td>441,224.00</td>\n",
       "      <td>199,658.00</td>\n",
       "      <td>-</td>\n",
       "    </tr>\n",
       "  </tbody>\n",
       "</table>\n",
       "</div>"
      ],
      "text/plain": [
       "       Year 1        Year 2        Year 3        Year 4        Year 5  \n",
       "0   203,726.00    279,969.00    465,303.00    200,445.00     96,319.00 \n",
       "1   263,845.00    272,439.00      2,192.00    199,901.00          -    \n",
       "2    27,726.00    334,861.00     82,265.00    199,954.00     64,958.00 \n",
       "3   293,801.00    210,117.00    275,087.00    199,934.00          -    \n",
       "4   297,319.00    242,569.00    464,097.00    200,598.00    141,285.00 \n",
       "5    36,012.00    296,235.00    484,943.00    199,842.00          -    \n",
       "6    78,138.00    308,996.00    491,647.00    199,218.00    127,187.00 \n",
       "7    61,767.00    269,747.00     23,989.00    199,771.00          -    \n",
       "8   346,503.00    172,903.00     41,218.00    200,827.00     80,270.00 \n",
       "9   149,681.00    205,417.00    441,224.00    199,658.00          -    "
      ]
     },
     "execution_count": 2,
     "metadata": {},
     "output_type": "execute_result"
    }
   ],
   "source": [
    "### Comenzamos importando nuestro conjunto de datos a trabajar.\n",
    "data_oil = pd.read_csv('Data_OilCompany.csv')\n",
    "data_oil.head(10)"
   ]
  },
  {
   "cell_type": "markdown",
   "metadata": {},
   "source": [
    "**Functions definition.**"
   ]
  },
  {
   "cell_type": "code",
   "execution_count": 3,
   "metadata": {},
   "outputs": [],
   "source": [
    "### Definimos una función para reemplazar caracteres.\n",
    "def replace_text(x, to_replace, replacement):\n",
    "    try:\n",
    "        x = x.replace(to_replace, replacement)\n",
    "    except:\n",
    "        pass\n",
    "    return x"
   ]
  },
  {
   "cell_type": "code",
   "execution_count": 4,
   "metadata": {},
   "outputs": [],
   "source": [
    "### Definimos una función que nos permita evaluar un proyecto con las metricas de NPV e IRR.\n",
    "def get_project_valuation(data: 'DataFrame donde se almacenan los posibles valores de producción.',\n",
    "                          invest: 'Inversión inicial.',\n",
    "                          price: 'Precio de venta por unidad.',\n",
    "                          cost: 'Costo fijo por unidad.',\n",
    "                          fixed: 'Costo de mantenimiento anual.',\n",
    "                          rf: 'Tasa libre de riesgo.'):\n",
    "    \n",
    "    '''La intención de está función es evaluar un proyecto a partir de las métricas del NPV y IRR.'''\n",
    "    \n",
    "    ### Definimos un data frame donde almacenaremos los flujos.\n",
    "    # Flujos de inversión inicial.\n",
    "    investment_flow = pd.DataFrame([-abs(invest)] * len(data))\n",
    "    \n",
    "    # Flujos correspondientes a las cantidades producidas.\n",
    "    flows = pd.DataFrame([[data.T.iloc[i,j] * (price-cost) - fixed \n",
    "                           for i in range(len(data.columns))]\n",
    "                           for j in range(len(data))])\n",
    "    \n",
    "    # Concatenamos los flujos.\n",
    "    final_flows = pd.merge(investment_flow, flows, right_index=True, left_index=True)\n",
    "    \n",
    "    ### Calculamos el valor presente neto, NPV.\n",
    "    npv_vector = [(npf.npv(rf, final_flows.iloc[i,:])) for i in range(len(final_flows))]\n",
    "    \n",
    "    ### Calculamos la tasa interna de retorno, IRR.\n",
    "    irr_vector = [round(npf.irr(final_flows.iloc[i,:]), 2) for i in range(len(final_flows))]\n",
    "    \n",
    "    ### Estructuramos información final en un data frame.\n",
    "    results = pd.DataFrame(columns=['NPV', 'IRR'])\n",
    "    results.index.name = 'Scenarios'\n",
    "    results['NPV'] = npv_vector\n",
    "    results['IRR'] = irr_vector\n",
    "    \n",
    "    ### Retornamos el data frame creado.\n",
    "    return results"
   ]
  },
  {
   "cell_type": "code",
   "execution_count": 5,
   "metadata": {},
   "outputs": [],
   "source": [
    "### Definimos una serie de funciones para obtener el ajuste a una distribución teórica sobre un conjunto de datos dado.\n",
    "### Create models from data.\n",
    "def best_fit_distribution(data, bins=200, ax=None):\n",
    "    \"\"\"Model data by finding best fit distribution to data\"\"\"\n",
    "    # Get histogram of original data\n",
    "    y, x = np.histogram(data, bins=bins, density=True)\n",
    "    x = (x + np.roll(x, -1))[:-1] / 2.0\n",
    "\n",
    "   # Distributions to check\n",
    "   # DISTRIBUTIONS = [        \n",
    "      #  st.alpha,st.anglit,st.arcsine,st.beta,st.betaprime,st.bradford,st.burr,st.cauchy,st.chi,st.chi2,st.cosine,\n",
    "       # st.dgamma,st.dweibull,st.erlang,st.expon,st.exponnorm,st.exponweib,st.exponpow,st.f,st.fatiguelife,st.fisk,\n",
    "        #st.foldcauchy,st.foldnorm,st.frechet_r,st.frechet_l,st.genlogistic,st.genpareto,st.gennorm,st.genexpon,\n",
    "      #  st.genextreme,st.gausshyper,st.gamma,st.gengamma,st.genhalflogistic,st.gilbrat,st.gompertz,st.gumbel_r,\n",
    "      #  st.gumbel_l,st.halfcauchy,st.halflogistic,st.halfnorm,st.halfgennorm,st.hypsecant,st.invgamma,st.invgauss,\n",
    "      #  st.invweibull,st.johnsonsb,st.johnsonsu,st.ksone,st.kstwobign,st.laplace,st.levy,st.levy_l,st.levy_stable,\n",
    "      #  st.logistic,st.loggamma,st.loglaplace,st.lognorm,st.lomax,st.maxwell,st.mielke,st.nakagami,st.ncx2,st.ncf,\n",
    "      #  st.nct,st.norm,st.pareto,st.pearson3,st.powerlaw,st.powerlognorm,st.powernorm,st.rdist,st.reciprocal,\n",
    "      #  st.rayleigh,st.rice,st.recipinvgauss,st.semicircular,st.t,st.triang,st.truncexpon,st.truncnorm,st.tukeylambda,\n",
    "      #  st.uniform,st.vonmises,st.vonmises_line,st.wald,st.weibull_min,st.weibull_max,st.wrapcauchy\n",
    "    #]\n",
    "\n",
    "  # Distributions to check\n",
    "    DISTRIBUTIONS = [        \n",
    "        st.gennorm,st.genexpon,st.lognorm,st.lomax,st.maxwell,st.mielke,st.nakagami,st.ncx2,st.ncf,\n",
    "        st.nct,st.norm,st.powerlognorm, st.uniform\n",
    "    ]\n",
    "\n",
    "\n",
    "    # Best holders\n",
    "    best_distribution = st.norm\n",
    "    best_params = (0.0, 1.0)\n",
    "    best_sse = np.inf\n",
    "\n",
    "    # Estimate distribution parameters from data\n",
    "    for distribution in DISTRIBUTIONS:\n",
    "\n",
    "        # Try to fit the distribution\n",
    "        try:\n",
    "            # Ignore warnings from data that can't be fit\n",
    "            with warnings.catch_warnings():\n",
    "                warnings.filterwarnings('ignore')\n",
    "\n",
    "                # fit dist to data\n",
    "                params = distribution.fit(data)\n",
    "\n",
    "                # Separate parts of parameters\n",
    "                arg = params[:-2]\n",
    "                loc = params[-2]\n",
    "                scale = params[-1]\n",
    "\n",
    "                # Calculate fitted PDF and error with fit in distribution\n",
    "                pdf = distribution.pdf(x, loc=loc, scale=scale, *arg)\n",
    "                sse = np.sum(np.power(y - pdf, 2.0))\n",
    "\n",
    "                # if axis pass in add to plot\n",
    "                try:\n",
    "                    if ax:\n",
    "                        pd.Series(pdf, x).plot(ax=ax)\n",
    "                \n",
    "                except Exception:\n",
    "                    pass\n",
    "\n",
    "                # identify if this distribution is better\n",
    "                if best_sse > sse > 0:\n",
    "                    best_distribution = distribution\n",
    "                    best_params = params\n",
    "                    best_sse = sse\n",
    "\n",
    "        except Exception:\n",
    "            pass\n",
    "\n",
    "    return (best_distribution.name, best_params)\n",
    "\n",
    "### Make pdf adjustment.\n",
    "def make_pdf(dist, params, size=10000):\n",
    "    \"\"\"Generate distributions's Probability Distribution Function \"\"\"\n",
    "\n",
    "    # Separate parts of parameters\n",
    "    arg = params[:-2]\n",
    "    loc = params[-2]\n",
    "    scale = params[-1]\n",
    "\n",
    "    # Get sane start and end points of distribution\n",
    "    start = dist.ppf(0.01, *arg, loc=loc, scale=scale) if arg else dist.ppf(0.01, loc=loc, scale=scale)\n",
    "    end = dist.ppf(0.99, *arg, loc=loc, scale=scale) if arg else dist.ppf(0.99, loc=loc, scale=scale)\n",
    "\n",
    "    # Build PDF and turn into pandas Series\n",
    "    x = np.linspace(start, end, size)\n",
    "    y = dist.pdf(x, loc=loc, scale=scale, *arg)\n",
    "    pdf = pd.Series(y, x)\n",
    "\n",
    "    return pdf"
   ]
  },
  {
   "cell_type": "code",
   "execution_count": 6,
   "metadata": {},
   "outputs": [],
   "source": [
    "### Plotting distributions.\n",
    "def plot_fit(data: 'Conjunto de datos sobre el cual se va a graficar.',\n",
    "             bins: 'Número de categorias deseadas en el histograma.'):\n",
    "    # Plot for comparison\n",
    "    plt.figure(figsize=(12,8))\n",
    "    ax = data.plot(kind='hist', bins=bins, density=True, alpha=0.5)\n",
    "    # Save plot limits\n",
    "    dataYLim = ax.get_ylim()\n",
    "\n",
    "    # Find best fit distribution\n",
    "    best_fit_name, best_fit_params = best_fit_distribution(data, bins, ax)\n",
    "    best_dist = getattr(st, best_fit_name)\n",
    "\n",
    "    # Update plots\n",
    "    ax.set_ylim(dataYLim)\n",
    "    ax.set_title(u'Data\\n All Fitted Distributions')\n",
    "    ax.set_xlabel(u'%')\n",
    "    ax.set_ylabel('Frequency')\n",
    "    \n",
    "    plt.show()\n",
    "\n",
    "    # Make PDF with best params \n",
    "    pdf = make_pdf(best_dist, best_fit_params)\n",
    "\n",
    "    # Display\n",
    "    plt.figure(figsize=(12,8))\n",
    "    ax = pdf.plot(lw=2, label='PDF', legend=True)\n",
    "    data.plot(kind='hist', bins=bins, density=True, alpha=0.5, label='Data', legend=True, ax=ax)\n",
    "\n",
    "    param_names = (best_dist.shapes + ', loc, scale').split(', ') if best_dist.shapes else ['loc', 'scale']\n",
    "    param_str = ', '.join(['{}={:0.2f}'.format(k,v) for k,v in zip(param_names, best_fit_params)])\n",
    "    dist_str = '{}({})'.format(best_fit_name, param_str)\n",
    "\n",
    "    ax.set_title(u'Data with best fit distribution \\n' + dist_str)\n",
    "    ax.set_xlabel(u'%')\n",
    "    ax.set_ylabel('Frequency')\n",
    "    \n",
    "    plt.show()"
   ]
  },
  {
   "cell_type": "markdown",
   "metadata": {},
   "source": [
    "**Data Cleansing.**"
   ]
  },
  {
   "cell_type": "code",
   "execution_count": 8,
   "metadata": {},
   "outputs": [
    {
     "data": {
      "text/html": [
       "<div>\n",
       "<style scoped>\n",
       "    .dataframe tbody tr th:only-of-type {\n",
       "        vertical-align: middle;\n",
       "    }\n",
       "\n",
       "    .dataframe tbody tr th {\n",
       "        vertical-align: top;\n",
       "    }\n",
       "\n",
       "    .dataframe thead th {\n",
       "        text-align: right;\n",
       "    }\n",
       "</style>\n",
       "<table border=\"1\" class=\"dataframe\">\n",
       "  <thead>\n",
       "    <tr style=\"text-align: right;\">\n",
       "      <th></th>\n",
       "      <th>0</th>\n",
       "      <th>1</th>\n",
       "      <th>2</th>\n",
       "      <th>3</th>\n",
       "      <th>4</th>\n",
       "    </tr>\n",
       "  </thead>\n",
       "  <tbody>\n",
       "    <tr>\n",
       "      <th>0</th>\n",
       "      <td>203726</td>\n",
       "      <td>279969</td>\n",
       "      <td>465303</td>\n",
       "      <td>200445</td>\n",
       "      <td>96319</td>\n",
       "    </tr>\n",
       "    <tr>\n",
       "      <th>1</th>\n",
       "      <td>263845</td>\n",
       "      <td>272439</td>\n",
       "      <td>2192</td>\n",
       "      <td>199901</td>\n",
       "      <td>0</td>\n",
       "    </tr>\n",
       "    <tr>\n",
       "      <th>2</th>\n",
       "      <td>27726</td>\n",
       "      <td>334861</td>\n",
       "      <td>82265</td>\n",
       "      <td>199954</td>\n",
       "      <td>64958</td>\n",
       "    </tr>\n",
       "    <tr>\n",
       "      <th>3</th>\n",
       "      <td>293801</td>\n",
       "      <td>210117</td>\n",
       "      <td>275087</td>\n",
       "      <td>199934</td>\n",
       "      <td>0</td>\n",
       "    </tr>\n",
       "    <tr>\n",
       "      <th>4</th>\n",
       "      <td>297319</td>\n",
       "      <td>242569</td>\n",
       "      <td>464097</td>\n",
       "      <td>200598</td>\n",
       "      <td>141285</td>\n",
       "    </tr>\n",
       "    <tr>\n",
       "      <th>5</th>\n",
       "      <td>36012</td>\n",
       "      <td>296235</td>\n",
       "      <td>484943</td>\n",
       "      <td>199842</td>\n",
       "      <td>0</td>\n",
       "    </tr>\n",
       "    <tr>\n",
       "      <th>6</th>\n",
       "      <td>78138</td>\n",
       "      <td>308996</td>\n",
       "      <td>491647</td>\n",
       "      <td>199218</td>\n",
       "      <td>127187</td>\n",
       "    </tr>\n",
       "    <tr>\n",
       "      <th>7</th>\n",
       "      <td>61767</td>\n",
       "      <td>269747</td>\n",
       "      <td>23989</td>\n",
       "      <td>199771</td>\n",
       "      <td>0</td>\n",
       "    </tr>\n",
       "    <tr>\n",
       "      <th>8</th>\n",
       "      <td>346503</td>\n",
       "      <td>172903</td>\n",
       "      <td>41218</td>\n",
       "      <td>200827</td>\n",
       "      <td>80270</td>\n",
       "    </tr>\n",
       "    <tr>\n",
       "      <th>9</th>\n",
       "      <td>149681</td>\n",
       "      <td>205417</td>\n",
       "      <td>441224</td>\n",
       "      <td>199658</td>\n",
       "      <td>0</td>\n",
       "    </tr>\n",
       "  </tbody>\n",
       "</table>\n",
       "</div>"
      ],
      "text/plain": [
       "        0       1       2       3       4\n",
       "0  203726  279969  465303  200445   96319\n",
       "1  263845  272439    2192  199901       0\n",
       "2   27726  334861   82265  199954   64958\n",
       "3  293801  210117  275087  199934       0\n",
       "4  297319  242569  464097  200598  141285\n",
       "5   36012  296235  484943  199842       0\n",
       "6   78138  308996  491647  199218  127187\n",
       "7   61767  269747   23989  199771       0\n",
       "8  346503  172903   41218  200827   80270\n",
       "9  149681  205417  441224  199658       0"
      ]
     },
     "execution_count": 8,
     "metadata": {},
     "output_type": "execute_result"
    }
   ],
   "source": [
    "# Primero iteramos para eliminar los espacios en las celdas de los valores y remplazamos el signo '-' por un 0.\n",
    "data_oil_values = pd.DataFrame([[(replace_text(data_oil.iloc[i,j], ',', '').strip()) \n",
    "                                  for i in range(len(data_oil))] \n",
    "                                  for j in range(len(data_oil.columns))][0:5]).replace('-', '0').T\n",
    "\n",
    "# Iteramos para volver numéricos los valores.\n",
    "data_oil_values = pd.DataFrame([[int(float(data_oil_values.iloc[i,j]))\n",
    "                                 for i in range(len(data_oil_values))]\n",
    "                                 for j in range(len(data_oil_values.columns))])\n",
    "\n",
    "# Visualizamos.\n",
    "data_oil_values.T.head(10)"
   ]
  },
  {
   "cell_type": "code",
   "execution_count": 9,
   "metadata": {},
   "outputs": [
    {
     "data": {
      "text/html": [
       "<div>\n",
       "<style scoped>\n",
       "    .dataframe tbody tr th:only-of-type {\n",
       "        vertical-align: middle;\n",
       "    }\n",
       "\n",
       "    .dataframe tbody tr th {\n",
       "        vertical-align: top;\n",
       "    }\n",
       "\n",
       "    .dataframe thead th {\n",
       "        text-align: right;\n",
       "    }\n",
       "</style>\n",
       "<table border=\"1\" class=\"dataframe\">\n",
       "  <thead>\n",
       "    <tr style=\"text-align: right;\">\n",
       "      <th></th>\n",
       "      <th>Year 1</th>\n",
       "      <th>Year 2</th>\n",
       "      <th>Year 3</th>\n",
       "      <th>Year 4</th>\n",
       "      <th>Year 5</th>\n",
       "    </tr>\n",
       "    <tr>\n",
       "      <th>Scenarios</th>\n",
       "      <th></th>\n",
       "      <th></th>\n",
       "      <th></th>\n",
       "      <th></th>\n",
       "      <th></th>\n",
       "    </tr>\n",
       "  </thead>\n",
       "  <tbody>\n",
       "    <tr>\n",
       "      <th>0</th>\n",
       "      <td>203726</td>\n",
       "      <td>279969</td>\n",
       "      <td>465303</td>\n",
       "      <td>200445</td>\n",
       "      <td>96319</td>\n",
       "    </tr>\n",
       "    <tr>\n",
       "      <th>1</th>\n",
       "      <td>263845</td>\n",
       "      <td>272439</td>\n",
       "      <td>2192</td>\n",
       "      <td>199901</td>\n",
       "      <td>0</td>\n",
       "    </tr>\n",
       "    <tr>\n",
       "      <th>2</th>\n",
       "      <td>27726</td>\n",
       "      <td>334861</td>\n",
       "      <td>82265</td>\n",
       "      <td>199954</td>\n",
       "      <td>64958</td>\n",
       "    </tr>\n",
       "    <tr>\n",
       "      <th>3</th>\n",
       "      <td>293801</td>\n",
       "      <td>210117</td>\n",
       "      <td>275087</td>\n",
       "      <td>199934</td>\n",
       "      <td>0</td>\n",
       "    </tr>\n",
       "    <tr>\n",
       "      <th>4</th>\n",
       "      <td>297319</td>\n",
       "      <td>242569</td>\n",
       "      <td>464097</td>\n",
       "      <td>200598</td>\n",
       "      <td>141285</td>\n",
       "    </tr>\n",
       "    <tr>\n",
       "      <th>5</th>\n",
       "      <td>36012</td>\n",
       "      <td>296235</td>\n",
       "      <td>484943</td>\n",
       "      <td>199842</td>\n",
       "      <td>0</td>\n",
       "    </tr>\n",
       "    <tr>\n",
       "      <th>6</th>\n",
       "      <td>78138</td>\n",
       "      <td>308996</td>\n",
       "      <td>491647</td>\n",
       "      <td>199218</td>\n",
       "      <td>127187</td>\n",
       "    </tr>\n",
       "    <tr>\n",
       "      <th>7</th>\n",
       "      <td>61767</td>\n",
       "      <td>269747</td>\n",
       "      <td>23989</td>\n",
       "      <td>199771</td>\n",
       "      <td>0</td>\n",
       "    </tr>\n",
       "    <tr>\n",
       "      <th>8</th>\n",
       "      <td>346503</td>\n",
       "      <td>172903</td>\n",
       "      <td>41218</td>\n",
       "      <td>200827</td>\n",
       "      <td>80270</td>\n",
       "    </tr>\n",
       "    <tr>\n",
       "      <th>9</th>\n",
       "      <td>149681</td>\n",
       "      <td>205417</td>\n",
       "      <td>441224</td>\n",
       "      <td>199658</td>\n",
       "      <td>0</td>\n",
       "    </tr>\n",
       "  </tbody>\n",
       "</table>\n",
       "</div>"
      ],
      "text/plain": [
       "           Year 1  Year 2  Year 3  Year 4  Year 5\n",
       "Scenarios                                        \n",
       "0          203726  279969  465303  200445   96319\n",
       "1          263845  272439    2192  199901       0\n",
       "2           27726  334861   82265  199954   64958\n",
       "3          293801  210117  275087  199934       0\n",
       "4          297319  242569  464097  200598  141285\n",
       "5           36012  296235  484943  199842       0\n",
       "6           78138  308996  491647  199218  127187\n",
       "7           61767  269747   23989  199771       0\n",
       "8          346503  172903   41218  200827   80270\n",
       "9          149681  205417  441224  199658       0"
      ]
     },
     "execution_count": 9,
     "metadata": {},
     "output_type": "execute_result"
    }
   ],
   "source": [
    "# Por cuestión de estética reestructuramos la información en un nuevo data frame.\n",
    "data_oil_final = pd.DataFrame(np.asmatrix(data_oil_values.T),\n",
    "                              columns = ['Year 1', 'Year 2', 'Year 3', 'Year 4', 'Year 5'])\n",
    "\n",
    "# Visualizamos.\n",
    "data_oil_final.index.name = 'Scenarios'\n",
    "data_oil_final.head(10)"
   ]
  },
  {
   "cell_type": "markdown",
   "metadata": {},
   "source": [
    "**Questions.**"
   ]
  },
  {
   "cell_type": "markdown",
   "metadata": {},
   "source": [
    "**_Answer analytically_.**"
   ]
  },
  {
   "cell_type": "markdown",
   "metadata": {},
   "source": [
    "1°- What are the expected product sales for year 1 and year 2?"
   ]
  },
  {
   "cell_type": "markdown",
   "metadata": {},
   "source": [
    "Para poder contestar análiticamente "
   ]
  },
  {
   "cell_type": "code",
   "execution_count": null,
   "metadata": {},
   "outputs": [],
   "source": []
  }
 ],
 "metadata": {
  "kernelspec": {
   "display_name": "Python 3",
   "language": "python",
   "name": "python3"
  },
  "language_info": {
   "codemirror_mode": {
    "name": "ipython",
    "version": 3
   },
   "file_extension": ".py",
   "mimetype": "text/x-python",
   "name": "python",
   "nbconvert_exporter": "python",
   "pygments_lexer": "ipython3",
   "version": "3.8.8"
  }
 },
 "nbformat": 4,
 "nbformat_minor": 4
}
