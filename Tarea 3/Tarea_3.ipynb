{
 "cells": [
  {
   "cell_type": "markdown",
   "metadata": {},
   "source": [
    "<img style=\"float: left; margin: 30px 15px 15px 15px;\" src=\"https://pngimage.net/wp-content/uploads/2018/06/logo-iteso-png-5.png\" width=\"300\" height=\"500\" /> \n",
    "    \n",
    "    \n",
    "### <font color='navy'> **Finanzas Cuantitativas | Verano 2021**. \n",
    "\n",
    "**Nombres:** \n",
    "- Juan Pablo Ruíz.\n",
    "- Rubén Hernández.\n",
    "- Bryan Juárez.\n",
    "\n",
    "**Fecha:** 01 de junio del 2021.\n",
    "    \n",
    "<img style=\"float: right; margin: 30px 15px 15px 15px;\" src=\"https://www.monash.edu/__data/assets/image/0004/1017517/iStock-611890326-OK3.jpg\" width=\"300\" height=\"500\" />\n",
    "\n",
    "**Expedientes** : \n",
    "- 721093.\n",
    "- 717710.\n",
    "- 722176.\n",
    "\n",
    "**Profesor:** José Mario Zárate.  \n",
    "\n",
    "## Tarea 3."
   ]
  },
  {
   "cell_type": "markdown",
   "metadata": {},
   "source": [
    "### Ejercicio 3.1"
   ]
  },
  {
   "cell_type": "markdown",
   "metadata": {},
   "source": [
    "Revisit the example from previous class:\n",
    "\n",
    "Buy a start up stock that doesn’t pay dividends estimate the Expected Results using Corporate Finance Theory the X factor stochastic.\n",
    "\n",
    "Assume a normal distribution.\n",
    "- Analytical method.\n",
    "- Simulate in excel/python to test accuracy."
   ]
  },
  {
   "cell_type": "code",
   "execution_count": null,
   "metadata": {},
   "outputs": [],
   "source": [
    "### Analytical Solution.\n",
    ".\n",
    ".\n",
    "."
   ]
  },
  {
   "cell_type": "code",
   "execution_count": null,
   "metadata": {},
   "outputs": [],
   "source": [
    "### Simulation.\n",
    ".\n",
    ".\n",
    "."
   ]
  },
  {
   "cell_type": "markdown",
   "metadata": {},
   "source": [
    "### Ejercicio 3.2"
   ]
  },
  {
   "cell_type": "markdown",
   "metadata": {},
   "source": [
    "Using the properties of random variables and knowing the PDF of the salesproduct of each year answer analytically:\n",
    "\n",
    "- What are the expected product sales for year 1 and year 2?\n",
    "- What the expected revenue in PV for the life of the product? What isthe VAR?\n",
    "- What the expected NPV and VAR for NPV?\n",
    "- Estimate the PDF of NPV and IRR answer analytically:\n",
    "    1. What's the probability that the IRR is over the Risk free rate?\n",
    "    2. What's the probability that the IRR is over the $35\\%$?\n",
    "    3. What's the probability that the project value is over $\\$2\\text{M}$?\n",
    "    4. What’s the probability that the IRR is between $10\\%$ and $20\\%$?\n",
    "    5. Do you get same responses as in Homework 1.1?"
   ]
  },
  {
   "cell_type": "code",
   "execution_count": null,
   "metadata": {},
   "outputs": [],
   "source": [
    "### Analytical Solution.\n",
    ".\n",
    ".\n",
    "."
   ]
  }
 ],
 "metadata": {
  "kernelspec": {
   "display_name": "Python 3",
   "language": "python",
   "name": "python3"
  },
  "language_info": {
   "codemirror_mode": {
    "name": "ipython",
    "version": 3
   },
   "file_extension": ".py",
   "mimetype": "text/x-python",
   "name": "python",
   "nbconvert_exporter": "python",
   "pygments_lexer": "ipython3",
   "version": "3.8.5"
  }
 },
 "nbformat": 4,
 "nbformat_minor": 4
}
