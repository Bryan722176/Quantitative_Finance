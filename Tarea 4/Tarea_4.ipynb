{
 "cells": [
  {
   "cell_type": "markdown",
   "id": "8dc13cbc",
   "metadata": {},
   "source": [
    "<img style=\"float: left; margin: 30px 15px 15px 15px;\" src=\"https://pngimage.net/wp-content/uploads/2018/06/logo-iteso-png-5.png\" width=\"300\" height=\"500\" /> \n",
    "    \n",
    "    \n",
    "### <font color='navy'> **Finanzas Cuantitativas | Verano 2021**. \n",
    "\n",
    "**Nombres:** \n",
    "- Juan Pablo Ruíz.\n",
    "- Rubén Hernández.\n",
    "- Bryan Juárez.\n",
    "\n",
    "**Fecha:** 03 de junio del 2021.\n",
    "    \n",
    "<img style=\"float: right; margin: 30px 15px 15px 15px;\" src=\"https://www.monash.edu/__data/assets/image/0004/1017517/iStock-611890326-OK3.jpg\" width=\"300\" height=\"500\" />\n",
    "\n",
    "**Expedientes** : \n",
    "- 721093.\n",
    "- 717710.\n",
    "- 722176.\n",
    "\n",
    "**Profesor:** José Mario Zárate.  \n",
    "\n",
    "## Tarea 4."
   ]
  },
  {
   "cell_type": "code",
   "execution_count": 1,
   "id": "be445948",
   "metadata": {},
   "outputs": [],
   "source": [
    "import pandas as pd\n",
    "import numpy as np"
   ]
  },
  {
   "cell_type": "markdown",
   "id": "39a340ad",
   "metadata": {},
   "source": [
    "## `4.1`\n",
    "La siguiente tabla enumera los diferentes flujos de efectivo que la administración cree que un proyecto podría obtener en el quinto año de su vida. También se enumera en la tabla la estimación de la administración de la probabilidad asociada con cada uno de los posibles flujos de efectivo alternativos que el proyecto podría generar en ese año."
   ]
  },
  {
   "cell_type": "code",
   "execution_count": 2,
   "id": "00b8f4b1",
   "metadata": {},
   "outputs": [
    {
     "data": {
      "text/html": [
       "<div>\n",
       "<style scoped>\n",
       "    .dataframe tbody tr th:only-of-type {\n",
       "        vertical-align: middle;\n",
       "    }\n",
       "\n",
       "    .dataframe tbody tr th {\n",
       "        vertical-align: top;\n",
       "    }\n",
       "\n",
       "    .dataframe thead th {\n",
       "        text-align: right;\n",
       "    }\n",
       "</style>\n",
       "<table border=\"1\" class=\"dataframe\">\n",
       "  <thead>\n",
       "    <tr style=\"text-align: right;\">\n",
       "      <th></th>\n",
       "      <th>Cash Flow</th>\n",
       "      <th>Probability</th>\n",
       "    </tr>\n",
       "  </thead>\n",
       "  <tbody>\n",
       "    <tr>\n",
       "      <th>0</th>\n",
       "      <td>20.0</td>\n",
       "      <td>0.04</td>\n",
       "    </tr>\n",
       "    <tr>\n",
       "      <th>1</th>\n",
       "      <td>17.5</td>\n",
       "      <td>0.06</td>\n",
       "    </tr>\n",
       "    <tr>\n",
       "      <th>2</th>\n",
       "      <td>15.0</td>\n",
       "      <td>0.12</td>\n",
       "    </tr>\n",
       "    <tr>\n",
       "      <th>3</th>\n",
       "      <td>12.5</td>\n",
       "      <td>0.18</td>\n",
       "    </tr>\n",
       "    <tr>\n",
       "      <th>4</th>\n",
       "      <td>10.0</td>\n",
       "      <td>0.20</td>\n",
       "    </tr>\n",
       "    <tr>\n",
       "      <th>5</th>\n",
       "      <td>7.5</td>\n",
       "      <td>0.18</td>\n",
       "    </tr>\n",
       "    <tr>\n",
       "      <th>6</th>\n",
       "      <td>5.0</td>\n",
       "      <td>0.12</td>\n",
       "    </tr>\n",
       "    <tr>\n",
       "      <th>7</th>\n",
       "      <td>2.5</td>\n",
       "      <td>0.06</td>\n",
       "    </tr>\n",
       "    <tr>\n",
       "      <th>8</th>\n",
       "      <td>0.0</td>\n",
       "      <td>0.04</td>\n",
       "    </tr>\n",
       "  </tbody>\n",
       "</table>\n",
       "</div>"
      ],
      "text/plain": [
       "   Cash Flow  Probability\n",
       "0       20.0         0.04\n",
       "1       17.5         0.06\n",
       "2       15.0         0.12\n",
       "3       12.5         0.18\n",
       "4       10.0         0.20\n",
       "5        7.5         0.18\n",
       "6        5.0         0.12\n",
       "7        2.5         0.06\n",
       "8        0.0         0.04"
      ]
     },
     "execution_count": 2,
     "metadata": {},
     "output_type": "execute_result"
    }
   ],
   "source": [
    "table = pd.DataFrame(data={'Cash Flow': [20, 17.5, 15, 12.5, 10, 7.5, 5, 2.5, 0],\n",
    "                           'Probability': [0.04, 0.06, 0.12, 0.18, 0.20, 0.18, 0.12, 0.06, 0.04]})\n",
    "table"
   ]
  },
  {
   "cell_type": "markdown",
   "id": "a69bb297",
   "metadata": {},
   "source": [
    "### `(a)`\n",
    "Cuál es el flujo esperado en el año 5?"
   ]
  },
  {
   "cell_type": "code",
   "execution_count": 8,
   "id": "aeba069a",
   "metadata": {},
   "outputs": [],
   "source": [
    "table['EV'] = (table['Cash Flow'].values)*(table['Probability'].values)"
   ]
  },
  {
   "cell_type": "code",
   "execution_count": 9,
   "id": "a12a991e",
   "metadata": {},
   "outputs": [
    {
     "data": {
      "text/html": [
       "<div>\n",
       "<style scoped>\n",
       "    .dataframe tbody tr th:only-of-type {\n",
       "        vertical-align: middle;\n",
       "    }\n",
       "\n",
       "    .dataframe tbody tr th {\n",
       "        vertical-align: top;\n",
       "    }\n",
       "\n",
       "    .dataframe thead th {\n",
       "        text-align: right;\n",
       "    }\n",
       "</style>\n",
       "<table border=\"1\" class=\"dataframe\">\n",
       "  <thead>\n",
       "    <tr style=\"text-align: right;\">\n",
       "      <th></th>\n",
       "      <th>Cash Flow</th>\n",
       "      <th>Probability</th>\n",
       "      <th>EV</th>\n",
       "    </tr>\n",
       "  </thead>\n",
       "  <tbody>\n",
       "    <tr>\n",
       "      <th>0</th>\n",
       "      <td>20.0</td>\n",
       "      <td>0.04</td>\n",
       "      <td>0.80</td>\n",
       "    </tr>\n",
       "    <tr>\n",
       "      <th>1</th>\n",
       "      <td>17.5</td>\n",
       "      <td>0.06</td>\n",
       "      <td>1.05</td>\n",
       "    </tr>\n",
       "    <tr>\n",
       "      <th>2</th>\n",
       "      <td>15.0</td>\n",
       "      <td>0.12</td>\n",
       "      <td>1.80</td>\n",
       "    </tr>\n",
       "    <tr>\n",
       "      <th>3</th>\n",
       "      <td>12.5</td>\n",
       "      <td>0.18</td>\n",
       "      <td>2.25</td>\n",
       "    </tr>\n",
       "    <tr>\n",
       "      <th>4</th>\n",
       "      <td>10.0</td>\n",
       "      <td>0.20</td>\n",
       "      <td>2.00</td>\n",
       "    </tr>\n",
       "    <tr>\n",
       "      <th>5</th>\n",
       "      <td>7.5</td>\n",
       "      <td>0.18</td>\n",
       "      <td>1.35</td>\n",
       "    </tr>\n",
       "    <tr>\n",
       "      <th>6</th>\n",
       "      <td>5.0</td>\n",
       "      <td>0.12</td>\n",
       "      <td>0.60</td>\n",
       "    </tr>\n",
       "    <tr>\n",
       "      <th>7</th>\n",
       "      <td>2.5</td>\n",
       "      <td>0.06</td>\n",
       "      <td>0.15</td>\n",
       "    </tr>\n",
       "    <tr>\n",
       "      <th>8</th>\n",
       "      <td>0.0</td>\n",
       "      <td>0.04</td>\n",
       "      <td>0.00</td>\n",
       "    </tr>\n",
       "  </tbody>\n",
       "</table>\n",
       "</div>"
      ],
      "text/plain": [
       "   Cash Flow  Probability    EV\n",
       "0       20.0         0.04  0.80\n",
       "1       17.5         0.06  1.05\n",
       "2       15.0         0.12  1.80\n",
       "3       12.5         0.18  2.25\n",
       "4       10.0         0.20  2.00\n",
       "5        7.5         0.18  1.35\n",
       "6        5.0         0.12  0.60\n",
       "7        2.5         0.06  0.15\n",
       "8        0.0         0.04  0.00"
      ]
     },
     "execution_count": 9,
     "metadata": {},
     "output_type": "execute_result"
    }
   ],
   "source": [
    "table"
   ]
  },
  {
   "cell_type": "code",
   "execution_count": 10,
   "id": "55dbb68f",
   "metadata": {},
   "outputs": [
    {
     "data": {
      "text/plain": [
       "(10.0, 10.0)"
      ]
     },
     "execution_count": 10,
     "metadata": {},
     "output_type": "execute_result"
    }
   ],
   "source": [
    "exp_flow1 = np.dot(table['Cash Flow'], table['Probability'])\n",
    "exp_flow2 = np.sum(table['EV'])\n",
    "exp_flow, exp_flow2"
   ]
  },
  {
   "cell_type": "markdown",
   "id": "2f931208",
   "metadata": {},
   "source": [
    "### `(b)`\n",
    "Cada uno de los posibles flujos es diferente del flujo esperado. Si elevamos al cuadrado cada una de las diferencias del flujo esperado y calculamos la probabilidad ponderada media de estas diferencias cuadráticas, obtenemos la varianza del flujo. Calcula la varianza del flujo del año 5."
   ]
  },
  {
   "cell_type": "code",
   "execution_count": 11,
   "id": "7470d8b0",
   "metadata": {},
   "outputs": [],
   "source": [
    "table[\"SQ Diff\"] = ((table['Cash Flow'].values)-exp_flow)**2"
   ]
  },
  {
   "cell_type": "code",
   "execution_count": 13,
   "id": "4b5f5a25",
   "metadata": {},
   "outputs": [],
   "source": [
    "table[\"PPM\"] = (table['SQ Diff'].values*table['Probability'].values)"
   ]
  },
  {
   "cell_type": "code",
   "execution_count": 14,
   "id": "8ac8d0ff",
   "metadata": {},
   "outputs": [
    {
     "data": {
      "text/html": [
       "<div>\n",
       "<style scoped>\n",
       "    .dataframe tbody tr th:only-of-type {\n",
       "        vertical-align: middle;\n",
       "    }\n",
       "\n",
       "    .dataframe tbody tr th {\n",
       "        vertical-align: top;\n",
       "    }\n",
       "\n",
       "    .dataframe thead th {\n",
       "        text-align: right;\n",
       "    }\n",
       "</style>\n",
       "<table border=\"1\" class=\"dataframe\">\n",
       "  <thead>\n",
       "    <tr style=\"text-align: right;\">\n",
       "      <th></th>\n",
       "      <th>Cash Flow</th>\n",
       "      <th>Probability</th>\n",
       "      <th>EV</th>\n",
       "      <th>SQ Diff</th>\n",
       "      <th>PPM</th>\n",
       "    </tr>\n",
       "  </thead>\n",
       "  <tbody>\n",
       "    <tr>\n",
       "      <th>0</th>\n",
       "      <td>20.0</td>\n",
       "      <td>0.04</td>\n",
       "      <td>0.80</td>\n",
       "      <td>100.00</td>\n",
       "      <td>4.000</td>\n",
       "    </tr>\n",
       "    <tr>\n",
       "      <th>1</th>\n",
       "      <td>17.5</td>\n",
       "      <td>0.06</td>\n",
       "      <td>1.05</td>\n",
       "      <td>56.25</td>\n",
       "      <td>3.375</td>\n",
       "    </tr>\n",
       "    <tr>\n",
       "      <th>2</th>\n",
       "      <td>15.0</td>\n",
       "      <td>0.12</td>\n",
       "      <td>1.80</td>\n",
       "      <td>25.00</td>\n",
       "      <td>3.000</td>\n",
       "    </tr>\n",
       "    <tr>\n",
       "      <th>3</th>\n",
       "      <td>12.5</td>\n",
       "      <td>0.18</td>\n",
       "      <td>2.25</td>\n",
       "      <td>6.25</td>\n",
       "      <td>1.125</td>\n",
       "    </tr>\n",
       "    <tr>\n",
       "      <th>4</th>\n",
       "      <td>10.0</td>\n",
       "      <td>0.20</td>\n",
       "      <td>2.00</td>\n",
       "      <td>0.00</td>\n",
       "      <td>0.000</td>\n",
       "    </tr>\n",
       "    <tr>\n",
       "      <th>5</th>\n",
       "      <td>7.5</td>\n",
       "      <td>0.18</td>\n",
       "      <td>1.35</td>\n",
       "      <td>6.25</td>\n",
       "      <td>1.125</td>\n",
       "    </tr>\n",
       "    <tr>\n",
       "      <th>6</th>\n",
       "      <td>5.0</td>\n",
       "      <td>0.12</td>\n",
       "      <td>0.60</td>\n",
       "      <td>25.00</td>\n",
       "      <td>3.000</td>\n",
       "    </tr>\n",
       "    <tr>\n",
       "      <th>7</th>\n",
       "      <td>2.5</td>\n",
       "      <td>0.06</td>\n",
       "      <td>0.15</td>\n",
       "      <td>56.25</td>\n",
       "      <td>3.375</td>\n",
       "    </tr>\n",
       "    <tr>\n",
       "      <th>8</th>\n",
       "      <td>0.0</td>\n",
       "      <td>0.04</td>\n",
       "      <td>0.00</td>\n",
       "      <td>100.00</td>\n",
       "      <td>4.000</td>\n",
       "    </tr>\n",
       "  </tbody>\n",
       "</table>\n",
       "</div>"
      ],
      "text/plain": [
       "   Cash Flow  Probability    EV  SQ Diff    PPM\n",
       "0       20.0         0.04  0.80   100.00  4.000\n",
       "1       17.5         0.06  1.05    56.25  3.375\n",
       "2       15.0         0.12  1.80    25.00  3.000\n",
       "3       12.5         0.18  2.25     6.25  1.125\n",
       "4       10.0         0.20  2.00     0.00  0.000\n",
       "5        7.5         0.18  1.35     6.25  1.125\n",
       "6        5.0         0.12  0.60    25.00  3.000\n",
       "7        2.5         0.06  0.15    56.25  3.375\n",
       "8        0.0         0.04  0.00   100.00  4.000"
      ]
     },
     "execution_count": 14,
     "metadata": {},
     "output_type": "execute_result"
    }
   ],
   "source": [
    "table"
   ]
  },
  {
   "cell_type": "code",
   "execution_count": 51,
   "id": "69716933",
   "metadata": {},
   "outputs": [
    {
     "data": {
      "text/plain": [
       "(23.0, 23.0)"
      ]
     },
     "execution_count": 51,
     "metadata": {},
     "output_type": "execute_result"
    }
   ],
   "source": [
    "var1 = np.sum(table['PPM'])\n",
    "var2 = np.dot(table['SQ Diff'], table['Probability'])\n",
    "var1, var2"
   ]
  },
  {
   "cell_type": "markdown",
   "id": "a8f05c11",
   "metadata": {},
   "source": [
    "`Fuente consultada`:\n",
    "\n",
    "[Peterson, P., (2007). Measuring Risk. pp, 4-5.](http://educ.jmu.edu/~drakepp/principles/module5/riskreturn_measure.pdf)"
   ]
  },
  {
   "cell_type": "markdown",
   "id": "44273084",
   "metadata": {},
   "source": [
    "### `(c)`\n",
    "La desviación estándar es la raíz cuadrada de la varianza. Calcule la desviación estándar del flujo de efectivo del año 5."
   ]
  },
  {
   "cell_type": "code",
   "execution_count": 53,
   "id": "2ef96acf",
   "metadata": {},
   "outputs": [
    {
     "data": {
      "text/plain": [
       "4.795831523312719"
      ]
     },
     "execution_count": 53,
     "metadata": {},
     "output_type": "execute_result"
    }
   ],
   "source": [
    "std = np.sqrt(var1)\n",
    "std"
   ]
  },
  {
   "cell_type": "markdown",
   "id": "2385c98f",
   "metadata": {},
   "source": [
    "## `4.2`"
   ]
  },
  {
   "cell_type": "markdown",
   "id": "2804cb8d",
   "metadata": {},
   "source": [
    "El producto **XTRON** requiere una inversión de **1 Millón** en un tiempo de un año si la administración decide lanzar el producto. El patrocinador del proyecto cree que el **NPV** será de **200,000**, pero hay una probabilidad de 20% de que el NPV sea de **-100,000**. ¿Cuánto valor puede esperar la administración que agregue esta inversión para los accionistas en ese momento?"
   ]
  },
  {
   "cell_type": "markdown",
   "id": "6bf08d38",
   "metadata": {},
   "source": [
    "- Para poder conocer el valor esperado del **NPV**, al nosotros conocer la probabilidad de ocurrencia de cada evento, lo podemos definir como la suma ponderada de los eventos con la siguiente fórmula.\n",
    "> $$\\text{E}[X] = \\sum_{i=1}^{n} P_{i} \\dot\\ X_{i}$$\n",
    "- Traduciendolo a términos numéricos del problema conocemos que\n",
    "> - **NPV** de $\\$200,000$ con una probabilidad de $80\\%$.\n",
    "> - **NPV** de $-\\$100,000$ con una probabilidad de $20\\%$.\n",
    "\n",
    "- Por lo tanto, tenemos que el valor esperado del **NPV** se define como. \n",
    "> $$\\text{E}[\\text{NPV}] = (0.8)*\\$200,000 - (0.2)*\\$100,000  $$\n",
    "- Resolviendo numéricamente, obtenemos que.\n",
    "> $$\\therefore \\text{E}[\\text{NPV}] = \\$140,000 $$"
   ]
  },
  {
   "cell_type": "code",
   "execution_count": 7,
   "id": "d528d0ee",
   "metadata": {},
   "outputs": [
    {
     "name": "stdout",
     "output_type": "stream",
     "text": [
      "El valor esperado del valor presente neto del proyecto es de: 140000\n"
     ]
    }
   ],
   "source": [
    "### Resolvemos numéricamente el problema.\n",
    "expected_npv = 0.8*200000 - 0.2*100000\n",
    "print(f'El valor esperado del valor presente neto del proyecto es de: {int(expected_npv)}')"
   ]
  },
  {
   "cell_type": "markdown",
   "id": "0d253f44",
   "metadata": {},
   "source": [
    "## `4.3`"
   ]
  },
  {
   "cell_type": "markdown",
   "id": "a06461ad",
   "metadata": {},
   "source": [
    "La empresa **A** le gustaría comprar la empresa **B** y necesita saber cuánto debería estar dispuesta a pagar. La empresa A tiene usos potenciales para los activos de la empresa B que harían que el activo valiera **20 millones para la empresa A**. El valor actual de la **deuda de la empresa B es de 15 millones**. **El número de acciones emitidas en B es de 5 millones.**\n",
    "\n",
    "**¿Cuánto es lo máximo que la empresa A debería estar dispuesta a pagar por acción de la empresa B?**\n",
    "\n",
    "Tip: utilice el enfoque de finanzas corporativas de la clase 2."
   ]
  },
  {
   "cell_type": "markdown",
   "id": "7314ff83",
   "metadata": {},
   "source": [
    "<li>Asumiendo que la empresa A ya multiplico por un factor de proyección los Activos de la Empresa B</li>\n",
    "\n",
    ">Aplicamos la ecuación contable:\n",
    "<br>\n",
    "\n",
    "<li> A: Activo</li>\n",
    "<li> L: Pasivo</li>\n",
    "<li> E: Capital</li>\n",
    "\n",
    "$${A - L = E}$$\n",
    "<br>\n",
    "$${20,000,000 - 15,000,000 = 5,000,000}$$\n",
    "<br>\n",
    "**Precio por acción:**\n",
    "<br>\n",
    "$${E = P * Q}$$\n",
    "<br>\n",
    "$${5,000,000 = P * 5,000,000}$$\n",
    "<br>\n",
    "**El precio justo al que la empresa A debería comprar las acciones de la empresa B es de 1 USD por acción:**\n",
    "<br>\n",
    "$${P = 1}$$"
   ]
  }
 ],
 "metadata": {
  "kernelspec": {
   "display_name": "Python 3",
   "language": "python",
   "name": "python3"
  },
  "language_info": {
   "codemirror_mode": {
    "name": "ipython",
    "version": 3
   },
   "file_extension": ".py",
   "mimetype": "text/x-python",
   "name": "python",
   "nbconvert_exporter": "python",
   "pygments_lexer": "ipython3",
   "version": "3.8.8"
  }
 },
 "nbformat": 4,
 "nbformat_minor": 5
}
