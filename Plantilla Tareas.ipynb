{
 "cells": [
  {
   "cell_type": "markdown",
   "id": "866becc1",
   "metadata": {},
   "source": [
    "<img style=\"float: left; margin: 30px 15px 15px 15px;\" src=\"https://pngimage.net/wp-content/uploads/2018/06/logo-iteso-png-5.png\" width=\"300\" height=\"500\" /> \n",
    "    \n",
    "    \n",
    "### <font color='navy'> **Finanzas Cuantitativas | Verano 2021**. \n",
    "\n",
    "**Nombres:** \n",
    "- Juan Pablo Ruíz.\n",
    "- Rubén Hernández.\n",
    "- Bryan Juárez.\n",
    "\n",
    "**Fecha:** 03 de junio del 2021.\n",
    "    \n",
    "<img style=\"float: right; margin: 30px 15px 15px 15px;\" src=\"https://www.monash.edu/__data/assets/image/0004/1017517/iStock-611890326-OK3.jpg\" width=\"300\" height=\"500\" />\n",
    "\n",
    "**Expedientes** : \n",
    "- 721093.\n",
    "- 717710.\n",
    "- 722176.\n",
    "\n",
    "**Profesor:** José Mario Zárate.  \n",
    "\n",
    "## Tarea N."
   ]
  },
  {
   "cell_type": "code",
   "execution_count": null,
   "id": "8165492e",
   "metadata": {},
   "outputs": [],
   "source": []
  },
  {
   "cell_type": "code",
   "execution_count": null,
   "id": "1cb09d23",
   "metadata": {},
   "outputs": [],
   "source": []
  }
 ],
 "metadata": {
  "kernelspec": {
   "display_name": "Python 3",
   "language": "python",
   "name": "python3"
  },
  "language_info": {
   "codemirror_mode": {
    "name": "ipython",
    "version": 3
   },
   "file_extension": ".py",
   "mimetype": "text/x-python",
   "name": "python",
   "nbconvert_exporter": "python",
   "pygments_lexer": "ipython3",
   "version": "3.8.8"
  }
 },
 "nbformat": 4,
 "nbformat_minor": 5
}
